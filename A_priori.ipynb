{
  "nbformat": 4,
  "nbformat_minor": 0,
  "metadata": {
    "colab": {
      "provenance": [],
      "authorship_tag": "ABX9TyNunSDFTbSw0E+2P56Gbs5w",
      "include_colab_link": true
    },
    "kernelspec": {
      "name": "python3",
      "display_name": "Python 3"
    },
    "language_info": {
      "name": "python"
    }
  },
  "cells": [
    {
      "cell_type": "markdown",
      "metadata": {
        "id": "view-in-github",
        "colab_type": "text"
      },
      "source": [
        "<a href=\"https://colab.research.google.com/github/eccho03/datamining_project_clothes/blob/main/A_priori.ipynb\" target=\"_parent\"><img src=\"https://colab.research.google.com/assets/colab-badge.svg\" alt=\"Open In Colab\"/></a>"
      ]
    },
    {
      "cell_type": "code",
      "source": [
        "import pandas as pd\n",
        "import warnings\n",
        "warnings.filterwarnings(\"ignore\", category=DeprecationWarning)"
      ],
      "metadata": {
        "id": "IEHFwX6F6wTb"
      },
      "execution_count": 15,
      "outputs": []
    },
    {
      "cell_type": "code",
      "source": [
        "# CSV 파일 읽기\n",
        "data = pd.read_csv('https://raw.githubusercontent.com/eccho03/datamining_project_clothes/refs/heads/main/size_selection_info.csv')\n",
        "\n",
        "# 데이터 확인\n",
        "print(data.head())"
      ],
      "metadata": {
        "colab": {
          "base_uri": "https://localhost:8080/"
        },
        "id": "GFXcjvvT06jg",
        "outputId": "3aa8286b-8339-4a86-a746-ca01566a56ff"
      },
      "execution_count": 16,
      "outputs": [
        {
          "output_type": "stream",
          "name": "stdout",
          "text": [
            "   weight   age  height size\n",
            "0      62  28.0  172.72   XL\n",
            "1      59  36.0  167.64    L\n",
            "2      61  34.0  165.10    M\n",
            "3      65  27.0  175.26    L\n",
            "4      62  45.0  172.72    M\n"
          ]
        }
      ]
    },
    {
      "cell_type": "code",
      "source": [
        "num_columns = ['weight', 'age', 'height']\n",
        "mean = data[num_columns].mean()\n",
        "std = data[num_columns].std()\n",
        "\n",
        "# 결과 출력\n",
        "print(\"평균\")\n",
        "print(mean)\n",
        "print(\"\\n표준편차\")\n",
        "print(std)\n",
        "\n",
        "# 'size'의 범주별 빈도 확인\n",
        "print(\"\\nSize 빈도수\")\n",
        "print(data['size'].value_counts())\n",
        "\n",
        "# 전체 데이터 요약 정보\n",
        "print(\"\\n데이터 요약 정보\")\n",
        "print(data.info())"
      ],
      "metadata": {
        "colab": {
          "base_uri": "https://localhost:8080/"
        },
        "id": "GNztimgCmx-k",
        "outputId": "2b626e73-0ed6-4b56-cf18-96a7915a1544"
      },
      "execution_count": 17,
      "outputs": [
        {
          "output_type": "stream",
          "name": "stdout",
          "text": [
            "평균\n",
            "weight     61.756811\n",
            "age        34.027311\n",
            "height    165.805794\n",
            "dtype: float64\n",
            "\n",
            "표준편차\n",
            "weight    9.944863\n",
            "age       8.149447\n",
            "height    6.737651\n",
            "dtype: float64\n",
            "\n",
            "Size 빈도수\n",
            "size\n",
            "M       29712\n",
            "S       21924\n",
            "XXXL    21359\n",
            "XL      19119\n",
            "L       17587\n",
            "XXS      9964\n",
            "XXL        69\n",
            "Name: count, dtype: int64\n",
            "\n",
            "데이터 요약 정보\n",
            "<class 'pandas.core.frame.DataFrame'>\n",
            "RangeIndex: 119734 entries, 0 to 119733\n",
            "Data columns (total 4 columns):\n",
            " #   Column  Non-Null Count   Dtype  \n",
            "---  ------  --------------   -----  \n",
            " 0   weight  119734 non-null  int64  \n",
            " 1   age     119477 non-null  float64\n",
            " 2   height  119404 non-null  float64\n",
            " 3   size    119734 non-null  object \n",
            "dtypes: float64(2), int64(1), object(1)\n",
            "memory usage: 3.7+ MB\n",
            "None\n"
          ]
        }
      ]
    },
    {
      "cell_type": "code",
      "source": [
        "# 키와 몸무게를 숫자형으로 변환\n",
        "data['height'] = pd.to_numeric(data['height'], errors='coerce')\n",
        "data['weight'] = pd.to_numeric(data['weight'], errors='coerce')\n",
        "\n",
        "# 결측값 제거\n",
        "data.dropna(subset=['height', 'weight'], inplace=True)"
      ],
      "metadata": {
        "id": "s_PyapTFLmMI"
      },
      "execution_count": 18,
      "outputs": []
    },
    {
      "cell_type": "code",
      "source": [
        "# 키 범주화\n",
        "bins_height = [0, 150, 155, 160, 165, 170, 175, 180, float('inf')]\n",
        "labels_height = ['less_150cm', '151~154cm', '155~159cm', '160~164cm', '165~169cm', '170~174cm', '175~179cm', 'over_180cm']\n",
        "data['height_range'] = pd.cut(data['height'], bins=bins_height, labels=labels_height, right=False)\n",
        "\n",
        "# 몸무게 범주화\n",
        "bins_weight = [0, 50, 55, 60, 65, 70, 75, 80, float('inf')]\n",
        "labels_weight = ['less_50kg', '51~54kg', '55~59kg', '60~64kg', '65~69kg', '70~74kg', '75~79kg', 'over_80kg']\n",
        "data['weight_range'] = pd.cut(data['weight'], bins=bins_weight, labels=labels_weight, right=False)\n",
        "\n",
        "# 사이즈 범주화\n",
        "size_mapping = {\n",
        "    'XXS': 'less_XS', 'XS': 'less_XS',\n",
        "    'S': 'S',\n",
        "    'M': 'M',\n",
        "    'L': 'L',\n",
        "    'XL': 'over_XL', 'XXL': 'over_XL', 'XXXL': 'over_XL'\n",
        "}\n",
        "data['size_range'] = data['size'].replace(size_mapping)\n",
        "data['size_range'] = data['size'].replace(size_mapping).fillna('Unknown') # 예외 처리\n",
        "\n",
        "# 결과 확인\n",
        "print(data.head())"
      ],
      "metadata": {
        "colab": {
          "base_uri": "https://localhost:8080/"
        },
        "id": "CmAvUcnd2iFk",
        "outputId": "44a89f63-d552-4f89-8be5-79511e4f9992"
      },
      "execution_count": 19,
      "outputs": [
        {
          "output_type": "stream",
          "name": "stdout",
          "text": [
            "   weight   age  height size height_range weight_range size_range\n",
            "0      62  28.0  172.72   XL    170~174cm      60~64kg    over_XL\n",
            "1      59  36.0  167.64    L    165~169cm      55~59kg          L\n",
            "2      61  34.0  165.10    M    165~169cm      60~64kg          M\n",
            "3      65  27.0  175.26    L    175~179cm      65~69kg          L\n",
            "4      62  45.0  172.72    M    170~174cm      60~64kg          M\n"
          ]
        }
      ]
    },
    {
      "cell_type": "code",
      "source": [
        "# 범주화된 데이터를 트랜잭션으로 변환\n",
        "transactions = data[['height_range', 'weight_range', 'size_range']].apply(lambda x: set(x), axis=1).tolist()\n",
        "\n",
        "# 트랜잭션 데이터를 이진화\n",
        "from mlxtend.preprocessing import TransactionEncoder\n",
        "\n",
        "te = TransactionEncoder()\n",
        "te_ary = te.fit(transactions).transform(transactions)\n",
        "encoded_df = pd.DataFrame(te_ary, columns=te.columns_)"
      ],
      "metadata": {
        "id": "G_j4jGXT3xU4"
      },
      "execution_count": 20,
      "outputs": []
    },
    {
      "cell_type": "code",
      "source": [
        "from mlxtend.frequent_patterns import apriori\n",
        "from mlxtend.frequent_patterns import association_rules\n",
        "import matplotlib.pyplot as plt\n",
        "\n",
        "# Apriori 알고리즘 수행\n",
        "frequent_itemsets = apriori(encoded_df, min_support=0.01, use_colnames=True)\n",
        "print(\"----------------frequent itemsets-----------------\")\n",
        "print(frequent_itemsets)\n",
        "\n",
        "# 각 항목별 빈도 계산\n",
        "item_frequencies = encoded_df.sum().sort_values(ascending=False)\n",
        "\n",
        "# 지지도 계산\n",
        "total_transactions = len(encoded_df)  # 전체 거래 수\n",
        "item_supports = item_frequencies / total_transactions  # 지지도 계산\n",
        "\n",
        "# 시각화\n",
        "plt.figure(figsize=(10, 6))\n",
        "plt.bar(item_supports.index, item_supports.values, color='skyblue')\n",
        "plt.xlabel('Items', fontsize=10)\n",
        "plt.ylabel('Support', fontsize=10)  # Y축 레이블을 'Support'로 변경\n",
        "plt.title('Support of Items', fontsize=12)\n",
        "plt.xticks(rotation=45, ha='right')  # 항목 이름이 길 경우\n",
        "plt.tight_layout()\n",
        "plt.show()"
      ],
      "metadata": {
        "colab": {
          "base_uri": "https://localhost:8080/",
          "height": 878
        },
        "id": "i5UcD43RMGAm",
        "outputId": "eafef46e-9775-486b-e605-ad29381ab405"
      },
      "execution_count": 49,
      "outputs": [
        {
          "output_type": "stream",
          "name": "stdout",
          "text": [
            "----------------frequent itemsets-----------------\n",
            "      support                         itemsets\n",
            "0    0.058943                      (151~154cm)\n",
            "1    0.088942                      (155~159cm)\n",
            "2    0.256256                      (160~164cm)\n",
            "3    0.260586                      (165~169cm)\n",
            "4    0.209340                      (170~174cm)\n",
            "..        ...                              ...\n",
            "122  0.021817    (over_XL, 65~69kg, 170~174cm)\n",
            "123  0.023802    (over_XL, 70~74kg, 170~174cm)\n",
            "124  0.012663  (over_XL, 170~174cm, over_80kg)\n",
            "125  0.010678    (over_XL, 65~69kg, 175~179cm)\n",
            "126  0.016004    (over_XL, 70~74kg, 175~179cm)\n",
            "\n",
            "[127 rows x 2 columns]\n"
          ]
        },
        {
          "output_type": "display_data",
          "data": {
            "text/plain": [
              "<Figure size 1000x600 with 1 Axes>"
            ],
            "image/png": "[encoded data removed]"
          },
          "metadata": {}
        }
      ]
    },
    {
      "cell_type": "code",
      "source": [
        "frequent_itemsets['num_itemsets'] = len(frequent_itemsets)\n",
        "rules = association_rules(frequent_itemsets, metric=\"confidence\", min_threshold=0.03, num_itemsets = frequent_itemsets['num_itemsets'])\n",
        "print(\"-------------------------연관 규칙-------------------------\")\n",
        "print(rules[['antecedents', 'consequents', 'support', 'confidence', 'lift']])"
      ],
      "metadata": {
        "colab": {
          "base_uri": "https://localhost:8080/"
        },
        "id": "Ec8tr0mI9cVr",
        "outputId": "59d1a6bb-4607-4026-c74c-148c74b2ad8b"
      },
      "execution_count": 50,
      "outputs": [
        {
          "output_type": "stream",
          "name": "stdout",
          "text": [
            "-------------------------연관 규칙-------------------------\n",
            "              antecedents           consequents   support  confidence  \\\n",
            "0             (151~154cm)             (51~54kg)  0.017587    0.298380   \n",
            "1               (51~54kg)           (151~154cm)  0.017587    0.107132   \n",
            "2             (151~154cm)             (55~59kg)  0.011557    0.196078   \n",
            "3               (55~59kg)           (151~154cm)  0.011557    0.048255   \n",
            "4                     (M)           (151~154cm)  0.014070    0.056684   \n",
            "..                    ...                   ...       ...         ...   \n",
            "341  (over_XL, 175~179cm)             (70~74kg)  0.016004    0.341433   \n",
            "342  (70~74kg, 175~179cm)             (over_XL)  0.016004    0.858105   \n",
            "343             (over_XL)  (70~74kg, 175~179cm)  0.016004    0.047259   \n",
            "344             (70~74kg)  (over_XL, 175~179cm)  0.016004    0.160602   \n",
            "345           (175~179cm)    (over_XL, 70~74kg)  0.016004    0.170655   \n",
            "\n",
            "         lift  \n",
            "0    1.817559  \n",
            "1    1.817559  \n",
            "2    0.818678  \n",
            "3    0.818678  \n",
            "4    0.961679  \n",
            "..        ...  \n",
            "341  3.426209  \n",
            "342  2.533847  \n",
            "343  2.533847  \n",
            "344  3.426209  \n",
            "345  1.924714  \n",
            "\n",
            "[346 rows x 5 columns]\n"
          ]
        }
      ]
    },
    {
      "cell_type": "code",
      "source": [
        "print(rules[['antecedents', 'consequents']])\n",
        "\n",
        "height_to_size_rules = rules[\n",
        "    (rules['antecedents'].apply(lambda x: any(item.endswith('cm') for item in x))) &\n",
        "    (rules['consequents'].apply(lambda x: any(item in ['less_XS', 'S', 'M', 'L', 'over_XL'] for item in x)))\n",
        "]\n",
        "\n",
        "# Confidence 기준으로 내림차순 정렬\n",
        "height_to_size_rules = height_to_size_rules.sort_values(by='confidence', ascending=False)\n",
        "\n",
        "print(\"-------------------------키 -> 사이즈 연관 규칙-----------------------\")\n",
        "print(height_to_size_rules[['antecedents', 'consequents', 'support', 'confidence', 'lift']])"
      ],
      "metadata": {
        "colab": {
          "base_uri": "https://localhost:8080/"
        },
        "id": "e1UhvRRtM8dJ",
        "outputId": "1d39615e-fd17-483d-e123-60c67ad2864d"
      },
      "execution_count": 51,
      "outputs": [
        {
          "output_type": "stream",
          "name": "stdout",
          "text": [
            "              antecedents           consequents\n",
            "0             (151~154cm)             (51~54kg)\n",
            "1               (51~54kg)           (151~154cm)\n",
            "2             (151~154cm)             (55~59kg)\n",
            "3               (55~59kg)           (151~154cm)\n",
            "4                     (M)           (151~154cm)\n",
            "..                    ...                   ...\n",
            "341  (over_XL, 175~179cm)             (70~74kg)\n",
            "342  (70~74kg, 175~179cm)             (over_XL)\n",
            "343             (over_XL)  (70~74kg, 175~179cm)\n",
            "344             (70~74kg)  (over_XL, 175~179cm)\n",
            "345           (175~179cm)    (over_XL, 70~74kg)\n",
            "\n",
            "[346 rows x 2 columns]\n",
            "-------------------------키 -> 사이즈 연관 규칙-----------------------\n",
            "                antecedents           consequents   support  confidence  \\\n",
            "276  (165~169cm, over_80kg)             (over_XL)  0.012805    0.993502   \n",
            "330  (over_80kg, 170~174cm)             (over_XL)  0.012663    0.985016   \n",
            "216    (70~74kg, 160~164cm)             (over_XL)  0.014765    0.918229   \n",
            "270    (70~74kg, 165~169cm)             (over_XL)  0.023207    0.906444   \n",
            "324    (70~74kg, 170~174cm)             (over_XL)  0.023802    0.887570   \n",
            "..                      ...                   ...       ...         ...   \n",
            "201             (160~164cm)          (M, 60~64kg)  0.012956    0.050559   \n",
            "315             (170~174cm)          (L, 65~69kg)  0.010502    0.050168   \n",
            "225             (160~164cm)  (less_50kg, less_XS)  0.012629    0.049284   \n",
            "278             (165~169cm)  (over_XL, over_80kg)  0.012805    0.049140   \n",
            "177             (160~164cm)          (L, 55~59kg)  0.011423    0.044578   \n",
            "\n",
            "         lift  \n",
            "276  2.933653  \n",
            "330  2.908596  \n",
            "216  2.711384  \n",
            "270  2.676585  \n",
            "324  2.620853  \n",
            "..        ...  \n",
            "201  0.731483  \n",
            "315  1.483473  \n",
            "225  1.282078  \n",
            "278  0.973382  \n",
            "177  1.292256  \n",
            "\n",
            "[92 rows x 5 columns]\n"
          ]
        }
      ]
    },
    {
      "cell_type": "code",
      "source": [
        "weight_to_size_rules = rules[\n",
        "    (rules['antecedents'].apply(lambda x: any(item.endswith('kg') for item in x))) &\n",
        "    (rules['consequents'].apply(lambda x: any(item in ['less_XS', 'S', 'M', 'L', 'over_XL'] for item in x)))\n",
        "]\n",
        "\n",
        "# Confidence 기준으로 내림차순 정렬\n",
        "weight_to_size_rules = weight_to_size_rules.sort_values(by='confidence', ascending=False)\n",
        "\n",
        "print(\"-------------------------몸무게 -> 사이즈 규칙-------------------------\")\n",
        "print(weight_to_size_rules[['antecedents', 'consequents', 'support', 'confidence', 'lift']])"
      ],
      "metadata": {
        "colab": {
          "base_uri": "https://localhost:8080/"
        },
        "id": "7-GYl-TgNrEu",
        "outputId": "00898409-ce02-4997-9fb7-315fc5e22012"
      },
      "execution_count": 52,
      "outputs": [
        {
          "output_type": "stream",
          "name": "stdout",
          "text": [
            "-------------------------몸무게 -> 사이즈 규칙-------------------------\n",
            "                antecedents           consequents   support  confidence  \\\n",
            "276  (165~169cm, over_80kg)             (over_XL)  0.012805    0.993502   \n",
            "147             (over_80kg)             (over_XL)  0.050484    0.988845   \n",
            "330  (over_80kg, 170~174cm)             (over_XL)  0.012663    0.985016   \n",
            "139               (75~79kg)             (over_XL)  0.034136    0.963593   \n",
            "216    (70~74kg, 160~164cm)             (over_XL)  0.014765    0.918229   \n",
            "..                      ...                   ...       ...         ...   \n",
            "290               (55~59kg)        (S, 170~174cm)  0.015602    0.065144   \n",
            "308               (60~64kg)  (over_XL, 170~174cm)  0.013015    0.063730   \n",
            "200               (60~64kg)        (M, 160~164cm)  0.012956    0.063443   \n",
            "127               (60~64kg)                   (S)  0.011859    0.058071   \n",
            "176               (55~59kg)        (L, 160~164cm)  0.011423    0.047696   \n",
            "\n",
            "         lift  \n",
            "276  2.933653  \n",
            "147  2.919902  \n",
            "330  2.908596  \n",
            "139  2.845337  \n",
            "216  2.711384  \n",
            "..        ...  \n",
            "290  2.180685  \n",
            "308  0.764405  \n",
            "200  0.946804  \n",
            "127  0.316992  \n",
            "176  1.389376  \n",
            "\n",
            "[85 rows x 5 columns]\n"
          ]
        }
      ]
    },
    {
      "cell_type": "code",
      "source": [
        "# 키, 몸무게 -> 사이즈 연관 규칙\n",
        "height_weight_to_size_rules = rules[\n",
        "    (rules['antecedents'].apply(lambda x: any(item.endswith('cm') or item.endswith('kg') for item in x))) &  # 키와 몸무게 관련 항목\n",
        "    (rules['consequents'].apply(lambda x: any(item in ['less_XS', 'S', 'M', 'L', 'over_XL'] for item in x)))  # 사이즈 관련 항목\n",
        "]\n",
        "\n",
        "height_weight_to_size_rules = height_weight_to_size_rules.sort_values(by='confidence', ascending=False)\n",
        "\n",
        "print(\"------------------------- (키, 몸무게) -> 사이즈 규칙-------------------------\")\n",
        "print(height_weight_to_size_rules[['antecedents', 'consequents', 'support', 'confidence', 'lift']])"
      ],
      "metadata": {
        "colab": {
          "base_uri": "https://localhost:8080/"
        },
        "id": "q-tvv_DURiKT",
        "outputId": "3c0fa639-a403-426f-b06b-da826e69b76b"
      },
      "execution_count": 53,
      "outputs": [
        {
          "output_type": "stream",
          "name": "stdout",
          "text": [
            "------------------------- (키, 몸무게) -> 사이즈 규칙-------------------------\n",
            "                antecedents           consequents   support  confidence  \\\n",
            "276  (165~169cm, over_80kg)             (over_XL)  0.012805    0.993502   \n",
            "147             (over_80kg)             (over_XL)  0.050484    0.988845   \n",
            "330  (over_80kg, 170~174cm)             (over_XL)  0.012663    0.985016   \n",
            "139               (75~79kg)             (over_XL)  0.034136    0.963593   \n",
            "216    (70~74kg, 160~164cm)             (over_XL)  0.014765    0.918229   \n",
            "..                      ...                   ...       ...         ...   \n",
            "315             (170~174cm)          (L, 65~69kg)  0.010502    0.050168   \n",
            "225             (160~164cm)  (less_50kg, less_XS)  0.012629    0.049284   \n",
            "278             (165~169cm)  (over_XL, over_80kg)  0.012805    0.049140   \n",
            "176               (55~59kg)        (L, 160~164cm)  0.011423    0.047696   \n",
            "177             (160~164cm)          (L, 55~59kg)  0.011423    0.044578   \n",
            "\n",
            "         lift  \n",
            "276  2.933653  \n",
            "147  2.919902  \n",
            "330  2.908596  \n",
            "139  2.845337  \n",
            "216  2.711384  \n",
            "..        ...  \n",
            "315  1.483473  \n",
            "225  1.282078  \n",
            "278  0.973382  \n",
            "176  1.389376  \n",
            "177  1.292256  \n",
            "\n",
            "[144 rows x 5 columns]\n"
          ]
        }
      ]
    },
    {
      "cell_type": "code",
      "source": [
        "height_mapping = {\n",
        "    'less_150cm': (0, 150),\n",
        "    '151~154cm': (151, 154),\n",
        "    '155~159cm': (155, 159),\n",
        "    '160~164cm': (160, 164),\n",
        "    '165~169cm': (165, 169),\n",
        "    '170~174cm': (170, 174),\n",
        "    '175~179cm': (175, 179),\n",
        "    'over_180cm': (180, float('inf'))\n",
        "}\n",
        "weight_mapping = {\n",
        "    'less_50kg': (0, 50),\n",
        "    '51~54kg': (51, 54),\n",
        "    '55~59kg': (55, 59),\n",
        "    '60~64kg': (60, 64),\n",
        "    '65~69kg': (65, 69),\n",
        "    '70~74kg': (70, 74),\n",
        "    '75~79kg': (75, 79),\n",
        "    'over_80kg': (80, float('inf'))\n",
        "}\n",
        "size_mapping = {\n",
        "    'less_XS': 'XS이하',\n",
        "    'S': 'S',\n",
        "    'M': 'M',\n",
        "    'L': 'L',\n",
        "    'over_XL': 'XL이상'\n",
        "}"
      ],
      "metadata": {
        "id": "HarXN-GPNKum"
      },
      "execution_count": 54,
      "outputs": []
    },
    {
      "cell_type": "code",
      "source": [
        "def extract_ranges(antecedents):\n",
        "    min_height, max_height, min_weight, max_weight = None, None, None, None\n",
        "\n",
        "    for item in antecedents:\n",
        "        if item.endswith('cm'):\n",
        "            height_range = height_mapping.get(item)\n",
        "            if height_range:\n",
        "                min_height, max_height = height_range\n",
        "        elif item.endswith('kg'):\n",
        "            weight_range = weight_mapping.get(item)\n",
        "            if weight_range:\n",
        "                min_weight, max_weight = weight_range\n",
        "\n",
        "    return min_height, max_height, min_weight, max_weight\n",
        "\n",
        "# 각 사이즈를 개별적으로 처리\n",
        "expanded_rows = []\n",
        "\n",
        "for _, row in height_weight_to_size_rules.iterrows():\n",
        "    antecedents = row['antecedents']\n",
        "    consequents = row['consequents']\n",
        "    confidence = row['confidence']\n",
        "    min_height, max_height, min_weight, max_weight = extract_ranges(antecedents)\n",
        "\n",
        "    for size in consequents:\n",
        "        size_korean = size_mapping.get(size, size)  # size를 매핑\n",
        "        expanded_rows.append({\n",
        "            'min_height': min_height,\n",
        "            'max_height': max_height,\n",
        "            'min_weight': min_weight,\n",
        "            'max_weight': max_weight,\n",
        "            'size': size_korean,\n",
        "            'confidence': confidence\n",
        "        })\n",
        "\n",
        "# DataFrame으로 변환\n",
        "expanded_df = pd.DataFrame(expanded_rows)\n",
        "\n",
        "# CSV로 저장\n",
        "result_file_path = 'apriori_result.csv'\n",
        "expanded_df.to_csv(result_file_path, index=False)"
      ],
      "metadata": {
        "id": "74daFQyKM4pR"
      },
      "execution_count": 57,
      "outputs": []
    },
    {
      "cell_type": "code",
      "source": [
        "from google.colab import files\n",
        "files.download(result_file_path)"
      ],
      "metadata": {
        "colab": {
          "base_uri": "https://localhost:8080/",
          "height": 17
        },
        "id": "x1qZsmA7I35R",
        "outputId": "12d8a72a-66c9-4bd8-8f33-0262d0d7316d"
      },
      "execution_count": 58,
      "outputs": [
        {
          "output_type": "display_data",
          "data": {
            "text/plain": [
              "<IPython.core.display.Javascript object>"
            ],
            "application/javascript": [
              "\n",
              "    async function download(id, filename, size) {\n",
              "      if (!google.colab.kernel.accessAllowed) {\n",
              "        return;\n",
              "      }\n",
              "      const div = document.createElement('div');\n",
              "      const label = document.createElement('label');\n",
              "      label.textContent = `Downloading \"${filename}\": `;\n",
              "      div.appendChild(label);\n",
              "      const progress = document.createElement('progress');\n",
              "      progress.max = size;\n",
              "      div.appendChild(progress);\n",
              "      document.body.appendChild(div);\n",
              "\n",
              "      const buffers = [];\n",
              "      let downloaded = 0;\n",
              "\n",
              "      const channel = await google.colab.kernel.comms.open(id);\n",
              "      // Send a message to notify the kernel that we're ready.\n",
              "      channel.send({})\n",
              "\n",
              "      for await (const message of channel.messages) {\n",
              "        // Send a message to notify the kernel that we're ready.\n",
              "        channel.send({})\n",
              "        if (message.buffers) {\n",
              "          for (const buffer of message.buffers) {\n",
              "            buffers.push(buffer);\n",
              "            downloaded += buffer.byteLength;\n",
              "            progress.value = downloaded;\n",
              "          }\n",
              "        }\n",
              "      }\n",
              "      const blob = new Blob(buffers, {type: 'application/binary'});\n",
              "      const a = document.createElement('a');\n",
              "      a.href = window.URL.createObjectURL(blob);\n",
              "      a.download = filename;\n",
              "      div.appendChild(a);\n",
              "      a.click();\n",
              "      div.remove();\n",
              "    }\n",
              "  "
            ]
          },
          "metadata": {}
        },
        {
          "output_type": "display_data",
          "data": {
            "text/plain": [
              "<IPython.core.display.Javascript object>"
            ],
            "application/javascript": [
              "download(\"download_3ece6d7f-2b5c-42c3-bbe8-592b5b1b5d53\", \"apriori_result.csv\", 8550)"
            ]
          },
          "metadata": {}
        }
      ]
    }
  ]
}