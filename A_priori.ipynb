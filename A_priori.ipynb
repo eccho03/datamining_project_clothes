{
  "nbformat": 4,
  "nbformat_minor": 0,
  "metadata": {
    "colab": {
      "provenance": [],
      "authorship_tag": "ABX9TyNHVdZD50F/iIZ4li+3iXUT",
      "include_colab_link": true
    },
    "kernelspec": {
      "name": "python3",
      "display_name": "Python 3"
    },
    "language_info": {
      "name": "python"
    }
  },
  "cells": [
    {
      "cell_type": "markdown",
      "metadata": {
        "id": "view-in-github",
        "colab_type": "text"
      },
      "source": [
        "<a href=\"https://colab.research.google.com/github/eccho03/datamining_project_clothes/blob/main/A_priori.ipynb\" target=\"_parent\"><img src=\"https://colab.research.google.com/assets/colab-badge.svg\" alt=\"Open In Colab\"/></a>"
      ]
    },
    {
      "cell_type": "code",
      "source": [
        "import pandas as pd"
      ],
      "metadata": {
        "id": "IEHFwX6F6wTb",
        "outputId": "c5719b3c-7161-4c0c-9229-ad159b82a316",
        "colab": {
          "base_uri": "https://localhost:8080/"
        }
      },
      "execution_count": 4,
      "outputs": [
        {
          "output_type": "stream",
          "name": "stderr",
          "text": [
            "/usr/local/lib/python3.10/dist-packages/ipykernel/ipkernel.py:283: DeprecationWarning: `should_run_async` will not call `transform_cell` automatically in the future. Please pass the result to `transformed_cell` argument and any exception that happen during thetransform in `preprocessing_exc_tuple` in IPython 7.17 and above.\n",
            "  and should_run_async(code)\n"
          ]
        }
      ]
    },
    {
      "cell_type": "code",
      "source": [
        "# CSV 파일 읽기\n",
        "data = pd.read_csv('https://raw.githubusercontent.com/eccho03/datamining_project_clothes/refs/heads/main/size_selection_info.csv')\n",
        "\n",
        "# 데이터 확인\n",
        "print(data.head())"
      ],
      "metadata": {
        "colab": {
          "base_uri": "https://localhost:8080/"
        },
        "id": "GFXcjvvT06jg",
        "outputId": "f97fc3ec-3011-4de9-db34-721c738351b7"
      },
      "execution_count": 5,
      "outputs": [
        {
          "output_type": "stream",
          "name": "stderr",
          "text": [
            "/usr/local/lib/python3.10/dist-packages/ipykernel/ipkernel.py:283: DeprecationWarning: `should_run_async` will not call `transform_cell` automatically in the future. Please pass the result to `transformed_cell` argument and any exception that happen during thetransform in `preprocessing_exc_tuple` in IPython 7.17 and above.\n",
            "  and should_run_async(code)\n"
          ]
        },
        {
          "output_type": "stream",
          "name": "stdout",
          "text": [
            "   weight   age  height size\n",
            "0      62  28.0  172.72   XL\n",
            "1      59  36.0  167.64    L\n",
            "2      61  34.0  165.10    M\n",
            "3      65  27.0  175.26    L\n",
            "4      62  45.0  172.72    M\n"
          ]
        }
      ]
    },
    {
      "cell_type": "code",
      "source": [
        "# 키 범주화\n",
        "bins_height = [0, 150, 160, 170, 180, float('inf')]\n",
        "labels_height = ['height_less_150', 'height_less_160', 'height_less_170', 'height_less_180', 'height_over_180']\n",
        "data['height_range'] = pd.cut(data['height'], bins=bins_height, labels=labels_height, right=False)\n",
        "\n",
        "# 몸무게 범주화\n",
        "bins_weight = [0, 40, 50, 60, 70, 80, float('inf')]\n",
        "labels_weight = ['weight_less_40', 'weight_less_50', 'weight_less_60', 'weight_less_70', 'weight_less_80', 'weight_over_80']\n",
        "data['weight_range'] = pd.cut(data['weight'], bins=bins_weight, labels=labels_weight, right=False)\n",
        "\n",
        "# 사이즈 범주화\n",
        "size_mapping = {\n",
        "    'XXXS': 'XS', 'XXS': 'XS', 'XS': 'XS',\n",
        "    'S': 'S',\n",
        "    'M': 'M',\n",
        "    'L': 'L',\n",
        "    'XL': 'XL', 'XXL': 'XL', 'XXXL': 'XL'\n",
        "}\n",
        "data['size_range'] = data['size'].replace(size_mapping)\n",
        "data['size_range'] = data['size'].replace(size_mapping).fillna('Unknown') # 예외 처리\n",
        "\n",
        "# 결과 확인\n",
        "print(data)"
      ],
      "metadata": {
        "colab": {
          "base_uri": "https://localhost:8080/"
        },
        "id": "CmAvUcnd2iFk",
        "outputId": "cfe7084b-5596-46fc-c8d5-ff02d37d9081"
      },
      "execution_count": 6,
      "outputs": [
        {
          "output_type": "stream",
          "name": "stderr",
          "text": [
            "/usr/local/lib/python3.10/dist-packages/ipykernel/ipkernel.py:283: DeprecationWarning: `should_run_async` will not call `transform_cell` automatically in the future. Please pass the result to `transformed_cell` argument and any exception that happen during thetransform in `preprocessing_exc_tuple` in IPython 7.17 and above.\n",
            "  and should_run_async(code)\n"
          ]
        },
        {
          "output_type": "stream",
          "name": "stdout",
          "text": [
            "        weight   age  height size     height_range    weight_range size_range\n",
            "0           62  28.0  172.72   XL  height_less_180  weight_less_70         XL\n",
            "1           59  36.0  167.64    L  height_less_170  weight_less_60          L\n",
            "2           61  34.0  165.10    M  height_less_170  weight_less_70          M\n",
            "3           65  27.0  175.26    L  height_less_180  weight_less_70          L\n",
            "4           62  45.0  172.72    M  height_less_180  weight_less_70          M\n",
            "...        ...   ...     ...  ...              ...             ...        ...\n",
            "119729      63  42.0  175.26    M  height_less_180  weight_less_70          M\n",
            "119730      45  29.0  154.94    S  height_less_160  weight_less_50          S\n",
            "119731      61  31.0  172.72    M  height_less_180  weight_less_70          M\n",
            "119732      74  31.0  167.64   XL  height_less_170  weight_less_80         XL\n",
            "119733      70  30.0  167.64   XL  height_less_170  weight_less_80         XL\n",
            "\n",
            "[119734 rows x 7 columns]\n"
          ]
        }
      ]
    },
    {
      "cell_type": "code",
      "source": [
        "# 범주화된 데이터를 트랜잭션으로 변환\n",
        "transactions = data[['height_range', 'weight_range', 'size']].apply(lambda x: set(x), axis=1).tolist()\n",
        "print(transactions[:5])  # 첫 5개의 트랜잭션 출력"
      ],
      "metadata": {
        "colab": {
          "base_uri": "https://localhost:8080/"
        },
        "id": "G_j4jGXT3xU4",
        "outputId": "c64dfd87-47ea-4947-b8f8-ffa84289f2f9"
      },
      "execution_count": 7,
      "outputs": [
        {
          "output_type": "stream",
          "name": "stderr",
          "text": [
            "/usr/local/lib/python3.10/dist-packages/ipykernel/ipkernel.py:283: DeprecationWarning: `should_run_async` will not call `transform_cell` automatically in the future. Please pass the result to `transformed_cell` argument and any exception that happen during thetransform in `preprocessing_exc_tuple` in IPython 7.17 and above.\n",
            "  and should_run_async(code)\n"
          ]
        },
        {
          "output_type": "stream",
          "name": "stdout",
          "text": [
            "[{'height_less_180', 'XL', 'weight_less_70'}, {'height_less_170', 'L', 'weight_less_60'}, {'height_less_170', 'weight_less_70', 'M'}, {'height_less_180', 'weight_less_70', 'L'}, {'height_less_180', 'weight_less_70', 'M'}]\n"
          ]
        }
      ]
    },
    {
      "cell_type": "code",
      "source": [
        "from mlxtend.frequent_patterns import apriori\n",
        "from mlxtend.frequent_patterns import association_rules\n",
        "\n",
        "# 트랜잭션 데이터를 이진화\n",
        "encoded_df = pd.DataFrame([{item: (item in transaction) for item in set.union(*transactions)} for transaction in transactions])\n",
        "\n",
        "# 데이터 확인\n",
        "print(encoded_df.head())\n"
      ],
      "metadata": {
        "colab": {
          "base_uri": "https://localhost:8080/"
        },
        "id": "6Lt5ye706k8n",
        "outputId": "e7ef74b0-b9f4-4620-9e23-aed06debc3d4"
      },
      "execution_count": 8,
      "outputs": [
        {
          "output_type": "stream",
          "name": "stderr",
          "text": [
            "/usr/local/lib/python3.10/dist-packages/ipykernel/ipkernel.py:283: DeprecationWarning: `should_run_async` will not call `transform_cell` automatically in the future. Please pass the result to `transformed_cell` argument and any exception that happen during thetransform in `preprocessing_exc_tuple` in IPython 7.17 and above.\n",
            "  and should_run_async(code)\n"
          ]
        },
        {
          "output_type": "stream",
          "name": "stdout",
          "text": [
            "   height_less_180  height_over_180    NaN  weight_less_70   XXXL  \\\n",
            "0             True            False  False            True  False   \n",
            "1            False            False  False           False  False   \n",
            "2            False            False  False            True  False   \n",
            "3             True            False  False            True  False   \n",
            "4             True            False  False            True  False   \n",
            "\n",
            "   weight_less_60    XXL     XL  weight_less_40  height_less_170      M  \\\n",
            "0           False  False   True           False            False  False   \n",
            "1            True  False  False           False             True  False   \n",
            "2           False  False  False           False             True   True   \n",
            "3           False  False  False           False            False  False   \n",
            "4           False  False  False           False            False   True   \n",
            "\n",
            "       S      L  height_less_160  weight_less_50  weight_over_80  \\\n",
            "0  False  False            False           False           False   \n",
            "1  False   True            False           False           False   \n",
            "2  False  False            False           False           False   \n",
            "3  False   True            False           False           False   \n",
            "4  False  False            False           False           False   \n",
            "\n",
            "   height_less_150  weight_less_80    XXS  \n",
            "0            False           False  False  \n",
            "1            False           False  False  \n",
            "2            False           False  False  \n",
            "3            False           False  False  \n",
            "4            False           False  False  \n"
          ]
        }
      ]
    }
  ]
}