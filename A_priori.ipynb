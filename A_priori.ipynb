{
  "nbformat": 4,
  "nbformat_minor": 0,
  "metadata": {
    "colab": {
      "provenance": [],
      "authorship_tag": "ABX9TyP+xXmCI2LTB0a5KG/Dxmxj",
      "include_colab_link": true
    },
    "kernelspec": {
      "name": "python3",
      "display_name": "Python 3"
    },
    "language_info": {
      "name": "python"
    }
  },
  "cells": [
    {
      "cell_type": "markdown",
      "metadata": {
        "id": "view-in-github",
        "colab_type": "text"
      },
      "source": [
        "<a href=\"https://colab.research.google.com/github/eccho03/datamining_project_clothes/blob/main/A_priori.ipynb\" target=\"_parent\"><img src=\"https://colab.research.google.com/assets/colab-badge.svg\" alt=\"Open In Colab\"/></a>"
      ]
    },
    {
      "cell_type": "code",
      "source": [
        "import pandas as pd\n",
        "import warnings\n",
        "warnings.simplefilter('ignore', DeprecationWarning)"
      ],
      "metadata": {
        "id": "IEHFwX6F6wTb"
      },
      "execution_count": 130,
      "outputs": []
    },
    {
      "cell_type": "code",
      "source": [
        "# CSV 파일 읽기\n",
        "data = pd.read_csv('https://raw.githubusercontent.com/eccho03/datamining_project_clothes/refs/heads/main/size_selection_info.csv')\n",
        "\n",
        "# 데이터 확인\n",
        "print(data.head())"
      ],
      "metadata": {
        "colab": {
          "base_uri": "https://localhost:8080/"
        },
        "id": "GFXcjvvT06jg",
        "outputId": "99793d20-14e1-4bf4-b237-03d7b4e89fca"
      },
      "execution_count": 131,
      "outputs": [
        {
          "output_type": "stream",
          "name": "stdout",
          "text": [
            "   weight   age  height size\n",
            "0      62  28.0  172.72   XL\n",
            "1      59  36.0  167.64    L\n",
            "2      61  34.0  165.10    M\n",
            "3      65  27.0  175.26    L\n",
            "4      62  45.0  172.72    M\n"
          ]
        }
      ]
    },
    {
      "cell_type": "code",
      "source": [
        "# 키와 몸무게를 숫자형으로 변환\n",
        "data['height'] = pd.to_numeric(data['height'], errors='coerce')\n",
        "data['weight'] = pd.to_numeric(data['weight'], errors='coerce')\n",
        "\n",
        "# 결측값 제거\n",
        "data.dropna(subset=['height', 'weight'], inplace=True)"
      ],
      "metadata": {
        "id": "s_PyapTFLmMI"
      },
      "execution_count": 132,
      "outputs": []
    },
    {
      "cell_type": "code",
      "source": [
        "# 키 범주화\n",
        "bins_height = [0, 160, 170, 180, float('inf')]\n",
        "labels_height = ['height_less_160', 'height_less_170', 'height_less_180', 'height_over_180']\n",
        "data['height_range'] = pd.cut(data['height'], bins=bins_height, labels=labels_height, right=False)\n",
        "\n",
        "# 몸무게 범주화\n",
        "bins_weight = [0, 50, 60, 70, 80, float('inf')]\n",
        "labels_weight = ['weight_less_50', 'weight_less_60', 'weight_less_70', 'weight_less_80', 'weight_over_80']\n",
        "data['weight_range'] = pd.cut(data['weight'], bins=bins_weight, labels=labels_weight, right=False)\n",
        "\n",
        "# 사이즈 범주화\n",
        "size_mapping = {\n",
        "    'XXXS': 'XS', 'XXS': 'XS', 'XS': 'XS',\n",
        "    'S': 'S',\n",
        "    'M': 'M',\n",
        "    'L': 'L',\n",
        "    'XL': 'XL', 'XXL': 'XL', 'XXXL': 'XL'\n",
        "}\n",
        "data['size_range'] = data['size'].replace(size_mapping)\n",
        "data['size_range'] = data['size'].replace(size_mapping).fillna('Unknown') # 예외 처리\n",
        "\n",
        "# 결과 확인\n",
        "print(data.head())"
      ],
      "metadata": {
        "colab": {
          "base_uri": "https://localhost:8080/"
        },
        "id": "CmAvUcnd2iFk",
        "outputId": "6b77e3c7-7edb-48c9-f617-0222aad129fa"
      },
      "execution_count": 133,
      "outputs": [
        {
          "output_type": "stream",
          "name": "stdout",
          "text": [
            "   weight   age  height size     height_range    weight_range size_range\n",
            "0      62  28.0  172.72   XL  height_less_180  weight_less_70         XL\n",
            "1      59  36.0  167.64    L  height_less_170  weight_less_60          L\n",
            "2      61  34.0  165.10    M  height_less_170  weight_less_70          M\n",
            "3      65  27.0  175.26    L  height_less_180  weight_less_70          L\n",
            "4      62  45.0  172.72    M  height_less_180  weight_less_70          M\n"
          ]
        }
      ]
    },
    {
      "cell_type": "code",
      "source": [
        "# 범주화된 데이터를 트랜잭션으로 변환\n",
        "transactions = data[['height_range', 'weight_range', 'size']].apply(lambda x: set(x), axis=1).tolist()\n",
        "\n",
        "# 트랜잭션 데이터를 이진화\n",
        "from mlxtend.preprocessing import TransactionEncoder\n",
        "\n",
        "te = TransactionEncoder()\n",
        "te_ary = te.fit(transactions).transform(transactions)\n",
        "encoded_df = pd.DataFrame(te_ary, columns=te.columns_)"
      ],
      "metadata": {
        "id": "G_j4jGXT3xU4"
      },
      "execution_count": 134,
      "outputs": []
    },
    {
      "cell_type": "code",
      "source": [
        "frequent_itemsets = apriori(encoded_df, min_support=0.08, use_colnames=True)\n",
        "print(\"----------------frequent itemsets-----------------\")\n",
        "print(frequent_itemsets)"
      ],
      "metadata": {
        "colab": {
          "base_uri": "https://localhost:8080/"
        },
        "id": "i5UcD43RMGAm",
        "outputId": "46ddf18e-61e8-409c-a5f6-d47fbd5e143b"
      },
      "execution_count": 135,
      "outputs": [
        {
          "output_type": "stream",
          "name": "stdout",
          "text": [
            "----------------frequent itemsets-----------------\n",
            "     support                              itemsets\n",
            "0   0.146804                                   (L)\n",
            "1   0.248216                                   (M)\n",
            "2   0.183193                                   (S)\n",
            "3   0.159668                                  (XL)\n",
            "4   0.083130                                 (XXS)\n",
            "5   0.178411                                (XXXL)\n",
            "6   0.154919                     (height_less_160)\n",
            "7   0.516842                     (height_less_170)\n",
            "8   0.303122                     (height_less_180)\n",
            "9   0.403672                      (weight_less_60)\n",
            "10  0.338163                      (weight_less_70)\n",
            "11  0.135079                      (weight_less_80)\n",
            "12  0.097116                   (weight_less_70, L)\n",
            "13  0.135540                  (height_less_170, M)\n",
            "14  0.156494                   (weight_less_60, M)\n",
            "15  0.084093                   (M, weight_less_70)\n",
            "16  0.101504                  (S, height_less_170)\n",
            "17  0.142022                   (S, weight_less_60)\n",
            "18  0.101647                  (XL, weight_less_70)\n",
            "19  0.083624               (XXXL, height_less_170)\n",
            "20  0.085483                (XXXL, weight_less_80)\n",
            "21  0.242555     (height_less_170, weight_less_60)\n",
            "22  0.165522     (height_less_170, weight_less_70)\n",
            "23  0.080902     (height_less_180, weight_less_60)\n",
            "24  0.136009     (height_less_180, weight_less_70)\n",
            "25  0.093607  (height_less_170, M, weight_less_60)\n",
            "26  0.084185  (S, height_less_170, weight_less_60)\n"
          ]
        }
      ]
    },
    {
      "cell_type": "code",
      "source": [
        "frequent_itemsets['num_itemsets'] = len(frequent_itemsets)\n",
        "rules = association_rules(frequent_itemsets, metric=\"confidence\", min_threshold=0.1, num_itemsets=frequent_itemsets['num_itemsets'])\n",
        "\n",
        "print(\"------------------------------연관 규칙----------------------------\\n\")\n",
        "print(rules)"
      ],
      "metadata": {
        "colab": {
          "base_uri": "https://localhost:8080/"
        },
        "id": "O1NolYE7KP3A",
        "outputId": "86cbc407-513d-4869-dc0d-46ff81765047"
      },
      "execution_count": 136,
      "outputs": [
        {
          "output_type": "stream",
          "name": "stdout",
          "text": [
            "------------------------------연관 규칙----------------------------\n",
            "\n",
            "                          antecedents                        consequents  \\\n",
            "0                    (weight_less_70)                                (L)   \n",
            "1                                 (L)                   (weight_less_70)   \n",
            "2                   (height_less_170)                                (M)   \n",
            "3                                 (M)                  (height_less_170)   \n",
            "4                    (weight_less_60)                                (M)   \n",
            "5                                 (M)                   (weight_less_60)   \n",
            "6                                 (M)                   (weight_less_70)   \n",
            "7                    (weight_less_70)                                (M)   \n",
            "8                                 (S)                  (height_less_170)   \n",
            "9                   (height_less_170)                                (S)   \n",
            "10                                (S)                   (weight_less_60)   \n",
            "11                   (weight_less_60)                                (S)   \n",
            "12                               (XL)                   (weight_less_70)   \n",
            "13                   (weight_less_70)                               (XL)   \n",
            "14                             (XXXL)                  (height_less_170)   \n",
            "15                  (height_less_170)                             (XXXL)   \n",
            "16                             (XXXL)                   (weight_less_80)   \n",
            "17                   (weight_less_80)                             (XXXL)   \n",
            "18                  (height_less_170)                   (weight_less_60)   \n",
            "19                   (weight_less_60)                  (height_less_170)   \n",
            "20                  (height_less_170)                   (weight_less_70)   \n",
            "21                   (weight_less_70)                  (height_less_170)   \n",
            "22                  (height_less_180)                   (weight_less_60)   \n",
            "23                   (weight_less_60)                  (height_less_180)   \n",
            "24                  (height_less_180)                   (weight_less_70)   \n",
            "25                   (weight_less_70)                  (height_less_180)   \n",
            "26               (height_less_170, M)                   (weight_less_60)   \n",
            "27  (height_less_170, weight_less_60)                                (M)   \n",
            "28                (weight_less_60, M)                  (height_less_170)   \n",
            "29                  (height_less_170)                (weight_less_60, M)   \n",
            "30                                (M)  (height_less_170, weight_less_60)   \n",
            "31                   (weight_less_60)               (height_less_170, M)   \n",
            "32               (S, height_less_170)                   (weight_less_60)   \n",
            "33                (S, weight_less_60)                  (height_less_170)   \n",
            "34  (height_less_170, weight_less_60)                                (S)   \n",
            "35                                (S)  (height_less_170, weight_less_60)   \n",
            "36                  (height_less_170)                (S, weight_less_60)   \n",
            "37                   (weight_less_60)               (S, height_less_170)   \n",
            "\n",
            "    antecedent support  consequent support   support  confidence      lift  \\\n",
            "0             0.338163            0.146804  0.097116    0.287186  1.956254   \n",
            "1             0.146804            0.338163  0.097116    0.661532  1.956254   \n",
            "2             0.516842            0.248216  0.135540    0.262246  1.056524   \n",
            "3             0.248216            0.516842  0.135540    0.546056  1.056524   \n",
            "4             0.403672            0.248216  0.156494    0.387676  1.561850   \n",
            "5             0.248216            0.403672  0.156494    0.630474  1.561850   \n",
            "6             0.248216            0.338163  0.084093    0.338788  1.001849   \n",
            "7             0.338163            0.248216  0.084093    0.248675  1.001849   \n",
            "8             0.183193            0.516842  0.101504    0.554082  1.072054   \n",
            "9             0.516842            0.183193  0.101504    0.196393  1.072054   \n",
            "10            0.183193            0.403672  0.142022    0.775258  1.920517   \n",
            "11            0.403672            0.183193  0.142022    0.351826  1.920517   \n",
            "12            0.159668            0.338163  0.101647    0.636612  1.882559   \n",
            "13            0.338163            0.159668  0.101647    0.300584  1.882559   \n",
            "14            0.178411            0.516842  0.083624    0.468713  0.906879   \n",
            "15            0.516842            0.178411  0.083624    0.161797  0.906879   \n",
            "16            0.178411            0.135079  0.085483    0.479134  3.547062   \n",
            "17            0.135079            0.178411  0.085483    0.632835  3.547062   \n",
            "18            0.516842            0.403672  0.242555    0.469301  1.162582   \n",
            "19            0.403672            0.516842  0.242555    0.600871  1.162582   \n",
            "20            0.516842            0.338163  0.165522    0.320257  0.947049   \n",
            "21            0.338163            0.516842  0.165522    0.489474  0.947049   \n",
            "22            0.303122            0.403672  0.080902    0.266895  0.661169   \n",
            "23            0.403672            0.303122  0.080902    0.200415  0.661169   \n",
            "24            0.303122            0.338163  0.136009    0.448693  1.326855   \n",
            "25            0.338163            0.303122  0.136009    0.402199  1.326855   \n",
            "26            0.135540            0.403672  0.093607    0.690620  1.710847   \n",
            "27            0.242555            0.248216  0.093607    0.385919  1.554772   \n",
            "28            0.156494            0.516842  0.093607    0.598148  1.157314   \n",
            "29            0.516842            0.156494  0.093607    0.181113  1.157314   \n",
            "30            0.248216            0.242555  0.093607    0.377117  1.554772   \n",
            "31            0.403672            0.135540  0.093607    0.231888  1.710847   \n",
            "32            0.101504            0.403672  0.084185    0.829373  2.054574   \n",
            "33            0.142022            0.516842  0.084185    0.592759  1.146886   \n",
            "34            0.242555            0.183193  0.084185    0.347075  1.894587   \n",
            "35            0.183193            0.242555  0.084185    0.459541  1.894587   \n",
            "36            0.516842            0.142022  0.084185    0.162883  1.146886   \n",
            "37            0.403672            0.101504  0.084185    0.208548  2.054574   \n",
            "\n",
            "    representativity  leverage  conviction  zhangs_metric   jaccard  \\\n",
            "0                1.0  0.047472    1.196941       0.738579  0.250394   \n",
            "1                1.0  0.047472    1.955392       0.572927  0.250394   \n",
            "2                1.0  0.007251    1.019017       0.110729  0.215307   \n",
            "3                1.0  0.007251    1.064355       0.071164  0.215307   \n",
            "4                1.0  0.056296    1.227756       0.603247  0.315898   \n",
            "5                1.0  0.056296    1.613768       0.478507  0.315898   \n",
            "6                1.0  0.000155    1.000945       0.002455  0.167420   \n",
            "7                1.0  0.000155    1.000611       0.002788  0.167420   \n",
            "8                1.0  0.006822    1.083514       0.082285  0.169589   \n",
            "9                1.0  0.006822    1.016426       0.139108  0.169589   \n",
            "10               1.0  0.068072    2.653395       0.586806  0.319263   \n",
            "11               1.0  0.068072    1.260165       0.803763  0.319263   \n",
            "12               1.0  0.047653    1.821294       0.557884  0.256564   \n",
            "13               1.0  0.047653    1.201477       0.708344  0.256564   \n",
            "14               1.0 -0.008587    0.909411      -0.111096  0.136723   \n",
            "15               1.0 -0.008587    0.980179      -0.175274  0.136723   \n",
            "16               1.0  0.061383    1.660545       0.874010  0.374913   \n",
            "17               1.0  0.061383    2.237657       0.830222  0.374913   \n",
            "18               1.0  0.033920    1.123667       0.289441  0.357772   \n",
            "19               1.0  0.033920    1.210532       0.234512  0.357772   \n",
            "20               1.0 -0.009255    0.973657      -0.103719  0.240067   \n",
            "21               1.0 -0.009255    0.946393      -0.077899  0.240067   \n",
            "22               1.0 -0.041460    0.813428      -0.423759  0.129258   \n",
            "23               1.0 -0.041460    0.871549      -0.462186  0.129258   \n",
            "24               1.0  0.033504    1.200488       0.353488  0.269177   \n",
            "25               1.0  0.033504    1.165736       0.372204  0.269177   \n",
            "26               1.0  0.038893    1.927497       0.480640  0.210066   \n",
            "27               1.0  0.033401    1.224243       0.471082  0.235687   \n",
            "28               1.0  0.012724    1.202329       0.161149  0.161466   \n",
            "29               1.0  0.012724    1.030064       0.281337  0.161466   \n",
            "30               1.0  0.033401    1.216032       0.474630  0.235687   \n",
            "31               1.0  0.038893    1.125435       0.696754  0.210066   \n",
            "32               1.0  0.043210    3.494923       0.571267  0.199968   \n",
            "33               1.0  0.010782    1.186417       0.149274  0.146490   \n",
            "34               1.0  0.039750    1.250997       0.623386  0.246469   \n",
            "35               1.0  0.039750    1.401485       0.578081  0.246469   \n",
            "36               1.0  0.010782    1.024920       0.265076  0.146490   \n",
            "37               1.0  0.043210    1.135250       0.860735  0.199968   \n",
            "\n",
            "    certainty  kulczynski  \n",
            "0    0.164537    0.474359  \n",
            "1    0.488594    0.474359  \n",
            "2    0.018662    0.404151  \n",
            "3    0.060464    0.404151  \n",
            "4    0.185506    0.509075  \n",
            "5    0.380332    0.509075  \n",
            "6    0.000945    0.293732  \n",
            "7    0.000610    0.293732  \n",
            "8    0.077077    0.375238  \n",
            "9    0.016160    0.375238  \n",
            "10   0.623124    0.563542  \n",
            "11   0.206453    0.563542  \n",
            "12   0.450940    0.468598  \n",
            "13   0.167691    0.468598  \n",
            "14  -0.099613    0.315255  \n",
            "15  -0.020221    0.315255  \n",
            "16   0.397788    0.555985  \n",
            "17   0.553104    0.555985  \n",
            "18   0.110057    0.535086  \n",
            "19   0.173917    0.535086  \n",
            "20  -0.027055    0.404866  \n",
            "21  -0.056643    0.404866  \n",
            "22  -0.229364    0.233655  \n",
            "23  -0.147382    0.233655  \n",
            "24   0.167005    0.425446  \n",
            "25   0.142173    0.425446  \n",
            "26   0.481193    0.461254  \n",
            "27   0.183169    0.381518  \n",
            "28   0.168281    0.389630  \n",
            "29   0.029186    0.389630  \n",
            "30   0.177653    0.381518  \n",
            "31   0.111455    0.461254  \n",
            "32   0.713871    0.518960  \n",
            "33   0.157126    0.377821  \n",
            "34   0.200638    0.403308  \n",
            "35   0.286471    0.403308  \n",
            "36   0.024314    0.377821  \n",
            "37   0.119136    0.518960  \n"
          ]
        }
      ]
    },
    {
      "cell_type": "code",
      "source": [
        "height_to_size_rules = rules[\n",
        "    (rules['antecedents'].apply(lambda x: any(item.startswith('height') for item in x))) &\n",
        "    (rules['consequents'].apply(lambda x: any(item in ['XS', 'S', 'M', 'L', 'XL'] for item in x)))\n",
        "]\n",
        "\n",
        "print(\"-------------------------키 -> 사이즈 연관 규칙-----------------------\")\n",
        "print(height_to_size_rules[['antecedents', 'consequents', 'support', 'confidence', 'lift']])"
      ],
      "metadata": {
        "colab": {
          "base_uri": "https://localhost:8080/"
        },
        "id": "e1UhvRRtM8dJ",
        "outputId": "88dfcb03-0075-4796-dce0-337a10e5f7d8"
      },
      "execution_count": 141,
      "outputs": [
        {
          "output_type": "stream",
          "name": "stdout",
          "text": [
            "-------------------------키 -> 사이즈 연관 규칙-----------------------\n",
            "                          antecedents          consequents   support  \\\n",
            "2                   (height_less_170)                  (M)  0.135540   \n",
            "9                   (height_less_170)                  (S)  0.101504   \n",
            "27  (height_less_170, weight_less_60)                  (M)  0.093607   \n",
            "29                  (height_less_170)  (weight_less_60, M)  0.093607   \n",
            "34  (height_less_170, weight_less_60)                  (S)  0.084185   \n",
            "36                  (height_less_170)  (S, weight_less_60)  0.084185   \n",
            "\n",
            "    confidence      lift  \n",
            "2     0.262246  1.056524  \n",
            "9     0.196393  1.072054  \n",
            "27    0.385919  1.554772  \n",
            "29    0.181113  1.157314  \n",
            "34    0.347075  1.894587  \n",
            "36    0.162883  1.146886  \n"
          ]
        }
      ]
    },
    {
      "cell_type": "code",
      "source": [
        "weight_to_size_rules = rules[\n",
        "    (rules['antecedents'].apply(lambda x: any(item.startswith('weight_') for item in x))) &\n",
        "    (rules['consequents'].apply(lambda x: any(item in ['XS', 'S', 'M', 'L', 'XL'] for item in x)))\n",
        "]\n",
        "\n",
        "print(\"-------------------------몸무게 -> 사이즈 규칙-------------------------\")\n",
        "print(weight_to_size_rules[['antecedents', 'consequents', 'support', 'confidence', 'lift']])"
      ],
      "metadata": {
        "colab": {
          "base_uri": "https://localhost:8080/"
        },
        "id": "7-GYl-TgNrEu",
        "outputId": "6a67565d-fbaf-4d6d-da32-eec88a3fd47a"
      },
      "execution_count": 142,
      "outputs": [
        {
          "output_type": "stream",
          "name": "stdout",
          "text": [
            "-------------------------몸무게 -> 사이즈 규칙-------------------------\n",
            "                          antecedents           consequents   support  \\\n",
            "0                    (weight_less_70)                   (L)  0.097116   \n",
            "4                    (weight_less_60)                   (M)  0.156494   \n",
            "7                    (weight_less_70)                   (M)  0.084093   \n",
            "11                   (weight_less_60)                   (S)  0.142022   \n",
            "13                   (weight_less_70)                  (XL)  0.101647   \n",
            "27  (height_less_170, weight_less_60)                   (M)  0.093607   \n",
            "31                   (weight_less_60)  (height_less_170, M)  0.093607   \n",
            "34  (height_less_170, weight_less_60)                   (S)  0.084185   \n",
            "37                   (weight_less_60)  (S, height_less_170)  0.084185   \n",
            "\n",
            "    confidence      lift  \n",
            "0     0.287186  1.956254  \n",
            "4     0.387676  1.561850  \n",
            "7     0.248675  1.001849  \n",
            "11    0.351826  1.920517  \n",
            "13    0.300584  1.882559  \n",
            "27    0.385919  1.554772  \n",
            "31    0.231888  1.710847  \n",
            "34    0.347075  1.894587  \n",
            "37    0.208548  2.054574  \n"
          ]
        }
      ]
    },
    {
      "cell_type": "code",
      "source": [
        "# 키, 몸무게 -> 사이즈 연관 규칙\n",
        "height_weight_to_size_rules = rules[\n",
        "    (rules['antecedents'].apply(lambda x: any(item.startswith('height_') or item.startswith('weight_') for item in x))) &  # 키와 몸무게 관련 항목\n",
        "    (rules['consequents'].apply(lambda x: any(item in ['XS', 'S', 'M', 'L', 'XL'] for item in x)))  # 사이즈 관련 항목\n",
        "]\n",
        "\n",
        "print(\"------------------------- (키, 몸무게) -> 사이즈 규칙-------------------------\")\n",
        "print(height_weight_to_size_rules[['antecedents', 'consequents', 'support', 'confidence', 'lift']])"
      ],
      "metadata": {
        "colab": {
          "base_uri": "https://localhost:8080/"
        },
        "id": "q-tvv_DURiKT",
        "outputId": "45bf3cd1-f239-4aef-ce39-7fb14eb148c4"
      },
      "execution_count": 143,
      "outputs": [
        {
          "output_type": "stream",
          "name": "stdout",
          "text": [
            "------------------------- (키, 몸무게) -> 사이즈 규칙-------------------------\n",
            "                          antecedents           consequents   support  \\\n",
            "0                    (weight_less_70)                   (L)  0.097116   \n",
            "2                   (height_less_170)                   (M)  0.135540   \n",
            "4                    (weight_less_60)                   (M)  0.156494   \n",
            "7                    (weight_less_70)                   (M)  0.084093   \n",
            "9                   (height_less_170)                   (S)  0.101504   \n",
            "11                   (weight_less_60)                   (S)  0.142022   \n",
            "13                   (weight_less_70)                  (XL)  0.101647   \n",
            "27  (height_less_170, weight_less_60)                   (M)  0.093607   \n",
            "29                  (height_less_170)   (weight_less_60, M)  0.093607   \n",
            "31                   (weight_less_60)  (height_less_170, M)  0.093607   \n",
            "34  (height_less_170, weight_less_60)                   (S)  0.084185   \n",
            "36                  (height_less_170)   (S, weight_less_60)  0.084185   \n",
            "37                   (weight_less_60)  (S, height_less_170)  0.084185   \n",
            "\n",
            "    confidence      lift  \n",
            "0     0.287186  1.956254  \n",
            "2     0.262246  1.056524  \n",
            "4     0.387676  1.561850  \n",
            "7     0.248675  1.001849  \n",
            "9     0.196393  1.072054  \n",
            "11    0.351826  1.920517  \n",
            "13    0.300584  1.882559  \n",
            "27    0.385919  1.554772  \n",
            "29    0.181113  1.157314  \n",
            "31    0.231888  1.710847  \n",
            "34    0.347075  1.894587  \n",
            "36    0.162883  1.146886  \n",
            "37    0.208548  2.054574  \n"
          ]
        }
      ]
    }
  ]
}