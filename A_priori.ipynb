{
  "nbformat": 4,
  "nbformat_minor": 0,
  "metadata": {
    "colab": {
      "provenance": [],
      "authorship_tag": "ABX9TyNFg9baqAeasEFiikesHHW7",
      "include_colab_link": true
    },
    "kernelspec": {
      "name": "python3",
      "display_name": "Python 3"
    },
    "language_info": {
      "name": "python"
    }
  },
  "cells": [
    {
      "cell_type": "markdown",
      "metadata": {
        "id": "view-in-github",
        "colab_type": "text"
      },
      "source": [
        "<a href=\"https://colab.research.google.com/github/eccho03/datamining_project_clothes/blob/main/A_priori.ipynb\" target=\"_parent\"><img src=\"https://colab.research.google.com/assets/colab-badge.svg\" alt=\"Open In Colab\"/></a>"
      ]
    },
    {
      "cell_type": "code",
      "execution_count": 1,
      "metadata": {
        "id": "jqJTdyBDzOFC"
      },
      "outputs": [],
      "source": [
        "import pandas as pd"
      ]
    },
    {
      "cell_type": "code",
      "source": [
        "# CSV 파일 읽기\n",
        "data = pd.read_csv('https://raw.githubusercontent.com/eccho03/datamining_project_clothes/refs/heads/main/size_selection_info.csv')\n",
        "\n",
        "# 데이터 확인\n",
        "print(data.head())"
      ],
      "metadata": {
        "colab": {
          "base_uri": "https://localhost:8080/"
        },
        "id": "GFXcjvvT06jg",
        "outputId": "eeaee934-19f1-48a3-fc9f-23a0f5dea7aa"
      },
      "execution_count": 4,
      "outputs": [
        {
          "output_type": "stream",
          "name": "stdout",
          "text": [
            "   weight   age  height size\n",
            "0      62  28.0  172.72   XL\n",
            "1      59  36.0  167.64    L\n",
            "2      61  34.0  165.10    M\n",
            "3      65  27.0  175.26    L\n",
            "4      62  45.0  172.72    M\n"
          ]
        }
      ]
    },
    {
      "cell_type": "code",
      "source": [
        "# 키 범주화\n",
        "bins_height = [0, 150, 160, 170, 180, float('inf')]\n",
        "labels_height = ['height_less_150', 'height_less_160', 'height_less_170', 'height_less_180', 'height_over_180']\n",
        "data['height_range'] = pd.cut(data['height'], bins=bins_height, labels=labels_height, right=False)\n",
        "\n",
        "# 몸무게 범주화\n",
        "bins_weight = [0, 40, 50, 60, 70, 80, float('inf')]\n",
        "labels_weight = ['weight_less_40', 'weight_less_50', 'weight_less_60', 'weight_less_70', 'weight_less_80', 'weight_over_80']\n",
        "data['weight_range'] = pd.cut(data['weight'], bins=bins_weight, labels=labels_weight, right=False)\n",
        "\n",
        "# 사이즈 범주화\n",
        "size_mapping = {\n",
        "    'XXXS': 'XS', 'XXS': 'XS', 'XS': 'XS',\n",
        "    'S': 'S',\n",
        "    'M': 'M',\n",
        "    'L': 'L',\n",
        "    'XL': 'XL', 'XXL': 'XL', 'XXXL': 'XL'\n",
        "}\n",
        "data['size_range'] = data['size'].replace(size_mapping)\n",
        "data['size_range'] = data['size'].replace(size_mapping).fillna('Unknown') # 예외 처리\n",
        "\n",
        "# 결과 확인\n",
        "print(data)"
      ],
      "metadata": {
        "colab": {
          "base_uri": "https://localhost:8080/"
        },
        "id": "CmAvUcnd2iFk",
        "outputId": "f92100f7-f34e-4555-be31-652ed59cb749"
      },
      "execution_count": 8,
      "outputs": [
        {
          "output_type": "stream",
          "name": "stdout",
          "text": [
            "        weight   age  height size     height_range    weight_range size_range\n",
            "0           62  28.0  172.72   XL  height_less_180  weight_less_70         XL\n",
            "1           59  36.0  167.64    L  height_less_170  weight_less_60          L\n",
            "2           61  34.0  165.10    M  height_less_170  weight_less_70          M\n",
            "3           65  27.0  175.26    L  height_less_180  weight_less_70          L\n",
            "4           62  45.0  172.72    M  height_less_180  weight_less_70          M\n",
            "...        ...   ...     ...  ...              ...             ...        ...\n",
            "119729      63  42.0  175.26    M  height_less_180  weight_less_70          M\n",
            "119730      45  29.0  154.94    S  height_less_160  weight_less_50          S\n",
            "119731      61  31.0  172.72    M  height_less_180  weight_less_70          M\n",
            "119732      74  31.0  167.64   XL  height_less_170  weight_less_80         XL\n",
            "119733      70  30.0  167.64   XL  height_less_170  weight_less_80         XL\n",
            "\n",
            "[119734 rows x 7 columns]\n"
          ]
        }
      ]
    },
    {
      "cell_type": "code",
      "source": [
        "# 범주화된 데이터를 트랜잭션으로 변환\n",
        "transactions = data[['height_range', 'weight_range', 'size']].apply(lambda x: set(x), axis=1).tolist()\n",
        "print(transactions[:5])  # 첫 5개의 트랜잭션 출력"
      ],
      "metadata": {
        "colab": {
          "base_uri": "https://localhost:8080/"
        },
        "id": "G_j4jGXT3xU4",
        "outputId": "11bf8020-e180-43cd-8b0e-56f5f07a9f47"
      },
      "execution_count": 9,
      "outputs": [
        {
          "output_type": "stream",
          "name": "stdout",
          "text": [
            "[{'weight_less_70', 'XL', 'height_less_180'}, {'L', 'height_less_170', 'weight_less_60'}, {'weight_less_70', 'height_less_170', 'M'}, {'weight_less_70', 'L', 'height_less_180'}, {'weight_less_70', 'M', 'height_less_180'}]\n"
          ]
        }
      ]
    }
  ]
}