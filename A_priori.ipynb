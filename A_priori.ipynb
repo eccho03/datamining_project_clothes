{
  "nbformat": 4,
  "nbformat_minor": 0,
  "metadata": {
    "colab": {
      "provenance": [],
      "authorship_tag": "ABX9TyO2dPAny7tWU7BWxASh8mt3",
      "include_colab_link": true
    },
    "kernelspec": {
      "name": "python3",
      "display_name": "Python 3"
    },
    "language_info": {
      "name": "python"
    }
  },
  "cells": [
    {
      "cell_type": "markdown",
      "metadata": {
        "id": "view-in-github",
        "colab_type": "text"
      },
      "source": [
        "<a href=\"https://colab.research.google.com/github/eccho03/datamining_project_clothes/blob/main/A_priori.ipynb\" target=\"_parent\"><img src=\"https://colab.research.google.com/assets/colab-badge.svg\" alt=\"Open In Colab\"/></a>"
      ]
    },
    {
      "cell_type": "code",
      "source": [
        "import pandas as pd\n",
        "import warnings\n",
        "warnings.simplefilter('ignore', DeprecationWarning)"
      ],
      "metadata": {
        "id": "IEHFwX6F6wTb"
      },
      "execution_count": null,
      "outputs": []
    },
    {
      "cell_type": "code",
      "source": [
        "# CSV 파일 읽기\n",
        "data = pd.read_csv('https://raw.githubusercontent.com/eccho03/datamining_project_clothes/refs/heads/main/size_selection_info.csv')\n",
        "\n",
        "# 데이터 확인\n",
        "print(data.head())"
      ],
      "metadata": {
        "colab": {
          "base_uri": "https://localhost:8080/"
        },
        "id": "GFXcjvvT06jg",
        "outputId": "7c7daf28-73d2-4c41-de1b-a183e0e42b32"
      },
      "execution_count": null,
      "outputs": [
        {
          "output_type": "stream",
          "name": "stdout",
          "text": [
            "   weight   age  height size\n",
            "0      62  28.0  172.72   XL\n",
            "1      59  36.0  167.64    L\n",
            "2      61  34.0  165.10    M\n",
            "3      65  27.0  175.26    L\n",
            "4      62  45.0  172.72    M\n"
          ]
        }
      ]
    },
    {
      "cell_type": "code",
      "source": [
        "num_columns = ['weight', 'age', 'height']\n",
        "mean = data[num_columns].mean()\n",
        "std = data[num_columns].std()\n",
        "\n",
        "# 결과 출력\n",
        "print(\"평균\")\n",
        "print(mean)\n",
        "print(\"\\n표준편차\")\n",
        "print(std)\n",
        "\n",
        "# 'size'의 범주별 빈도 확인\n",
        "print(\"\\nSize 빈도수\")\n",
        "print(data['size'].value_counts())\n",
        "\n",
        "# 전체 데이터 요약 정보\n",
        "print(\"\\n데이터 요약 정보\")\n",
        "print(data.info())"
      ],
      "metadata": {
        "colab": {
          "base_uri": "https://localhost:8080/"
        },
        "id": "GNztimgCmx-k",
        "outputId": "7d30a231-b7ab-4688-f14c-1026330bd831"
      },
      "execution_count": null,
      "outputs": [
        {
          "output_type": "stream",
          "name": "stdout",
          "text": [
            "평균\n",
            "weight     61.756811\n",
            "age        34.027311\n",
            "height    165.805794\n",
            "dtype: float64\n",
            "\n",
            "표준편차\n",
            "weight    9.944863\n",
            "age       8.149447\n",
            "height    6.737651\n",
            "dtype: float64\n",
            "\n",
            "Size 빈도수\n",
            "size\n",
            "M       29712\n",
            "S       21924\n",
            "XXXL    21359\n",
            "XL      19119\n",
            "L       17587\n",
            "XXS      9964\n",
            "XXL        69\n",
            "Name: count, dtype: int64\n",
            "\n",
            "데이터 요약 정보\n",
            "<class 'pandas.core.frame.DataFrame'>\n",
            "RangeIndex: 119734 entries, 0 to 119733\n",
            "Data columns (total 4 columns):\n",
            " #   Column  Non-Null Count   Dtype  \n",
            "---  ------  --------------   -----  \n",
            " 0   weight  119734 non-null  int64  \n",
            " 1   age     119477 non-null  float64\n",
            " 2   height  119404 non-null  float64\n",
            " 3   size    119734 non-null  object \n",
            "dtypes: float64(2), int64(1), object(1)\n",
            "memory usage: 3.7+ MB\n",
            "None\n"
          ]
        }
      ]
    },
    {
      "cell_type": "code",
      "source": [
        "# 키와 몸무게를 숫자형으로 변환\n",
        "data['height'] = pd.to_numeric(data['height'], errors='coerce')\n",
        "data['weight'] = pd.to_numeric(data['weight'], errors='coerce')\n",
        "\n",
        "# 결측값 제거\n",
        "data.dropna(subset=['height', 'weight'], inplace=True)"
      ],
      "metadata": {
        "id": "s_PyapTFLmMI"
      },
      "execution_count": null,
      "outputs": []
    },
    {
      "cell_type": "code",
      "source": [
        "# 키 범주화\n",
        "bins_height = [0, 150, 160, 170, 180, float('inf')]\n",
        "labels_height = ['height_less_150', 'height_less_160', 'height_less_170', 'height_less_180', 'height_over_180']\n",
        "data['height_range'] = pd.cut(data['height'], bins=bins_height, labels=labels_height, right=False)\n",
        "\n",
        "# 몸무게 범주화\n",
        "bins_weight = [0, 50, 60, 70, 80, float('inf')]\n",
        "labels_weight = ['weight_less_50', 'weight_less_60', 'weight_less_70', 'weight_less_80', 'weight_over_80']\n",
        "data['weight_range'] = pd.cut(data['weight'], bins=bins_weight, labels=labels_weight, right=False)\n",
        "\n",
        "# 사이즈 범주화\n",
        "size_mapping = {\n",
        "    'XXS': 'XS', 'XS': 'XS',\n",
        "    'S': 'S',\n",
        "    'M': 'M',\n",
        "    'L': 'L',\n",
        "    'XL': 'XL', 'XXL': '2XL', 'XXXL': '2XL'\n",
        "}\n",
        "data['size_range'] = data['size'].replace(size_mapping)\n",
        "data['size_range'] = data['size'].replace(size_mapping).fillna('Unknown') # 예외 처리\n",
        "\n",
        "# 결과 확인\n",
        "print(data.head())"
      ],
      "metadata": {
        "colab": {
          "base_uri": "https://localhost:8080/"
        },
        "id": "CmAvUcnd2iFk",
        "outputId": "d560b459-7c87-4ab7-8645-4a6857ae4fc8"
      },
      "execution_count": null,
      "outputs": [
        {
          "output_type": "stream",
          "name": "stdout",
          "text": [
            "   weight   age  height size     height_range    weight_range size_range\n",
            "0      62  28.0  172.72   XL  height_less_180  weight_less_70         XL\n",
            "1      59  36.0  167.64    L  height_less_170  weight_less_60          L\n",
            "2      61  34.0  165.10    M  height_less_170  weight_less_70          M\n",
            "3      65  27.0  175.26    L  height_less_180  weight_less_70          L\n",
            "4      62  45.0  172.72    M  height_less_180  weight_less_70          M\n"
          ]
        }
      ]
    },
    {
      "cell_type": "code",
      "source": [
        "# 범주화된 데이터를 트랜잭션으로 변환\n",
        "transactions = data[['height_range', 'weight_range', 'size_range']].apply(lambda x: set(x), axis=1).tolist()\n",
        "\n",
        "# 트랜잭션 데이터를 이진화\n",
        "from mlxtend.preprocessing import TransactionEncoder\n",
        "\n",
        "te = TransactionEncoder()\n",
        "te_ary = te.fit(transactions).transform(transactions)\n",
        "encoded_df = pd.DataFrame(te_ary, columns=te.columns_)"
      ],
      "metadata": {
        "id": "G_j4jGXT3xU4"
      },
      "execution_count": null,
      "outputs": []
    },
    {
      "cell_type": "code",
      "source": [
        "from mlxtend.frequent_patterns import apriori\n",
        "from mlxtend.frequent_patterns import association_rules\n",
        "import matplotlib.pyplot as plt\n",
        "\n",
        "# Apriori 알고리즘 수행\n",
        "frequent_itemsets = apriori(encoded_df, min_support=0.08, use_colnames=True)\n",
        "print(\"----------------frequent itemsets-----------------\")\n",
        "print(frequent_itemsets)\n",
        "\n",
        "# 각 항목별 빈도 계산\n",
        "item_frequencies = encoded_df.sum().sort_values(ascending=False)\n",
        "\n",
        "# 지지도 계산\n",
        "total_transactions = len(encoded_df)  # 전체 거래 수\n",
        "item_supports = item_frequencies / total_transactions  # 지지도 계산\n",
        "\n",
        "# 시각화\n",
        "plt.figure(figsize=(10, 6))\n",
        "plt.bar(item_supports.index, item_supports.values, color='skyblue')\n",
        "plt.xlabel('Items', fontsize=10)\n",
        "plt.ylabel('Support', fontsize=10)  # Y축 레이블을 'Support'로 변경\n",
        "plt.title('Support of Items', fontsize=12)\n",
        "plt.xticks(rotation=45, ha='right')  # 항목 이름이 길 경우\n",
        "plt.tight_layout()\n",
        "plt.show()"
      ],
      "metadata": {
        "colab": {
          "base_uri": "https://localhost:8080/",
          "height": 1000
        },
        "id": "i5UcD43RMGAm",
        "outputId": "e191bfcf-9965-4bc6-9d1d-77d194985134"
      },
      "execution_count": null,
      "outputs": [
        {
          "output_type": "stream",
          "name": "stderr",
          "text": [
            "/usr/local/lib/python3.10/dist-packages/ipykernel/ipkernel.py:283: DeprecationWarning: `should_run_async` will not call `transform_cell` automatically in the future. Please pass the result to `transformed_cell` argument and any exception that happen during thetransform in `preprocessing_exc_tuple` in IPython 7.17 and above.\n",
            "  and should_run_async(code)\n"
          ]
        },
        {
          "output_type": "stream",
          "name": "stdout",
          "text": [
            "----------------frequent itemsets-----------------\n",
            "     support                              itemsets\n",
            "0   0.178989                                 (2XL)\n",
            "1   0.146804                                   (L)\n",
            "2   0.248216                                   (M)\n",
            "3   0.183193                                   (S)\n",
            "4   0.159668                                  (XL)\n",
            "5   0.083130                                  (XS)\n",
            "6   0.147884                     (height_less_160)\n",
            "7   0.516842                     (height_less_170)\n",
            "8   0.303122                     (height_less_180)\n",
            "9   0.403672                      (weight_less_60)\n",
            "10  0.338163                      (weight_less_70)\n",
            "11  0.135079                      (weight_less_80)\n",
            "12  0.083858                (2XL, height_less_170)\n",
            "13  0.085642                 (weight_less_80, 2XL)\n",
            "14  0.097116                   (L, weight_less_70)\n",
            "15  0.135540                  (height_less_170, M)\n",
            "16  0.156494                   (weight_less_60, M)\n",
            "17  0.084093                   (weight_less_70, M)\n",
            "18  0.101504                  (height_less_170, S)\n",
            "19  0.142022                   (weight_less_60, S)\n",
            "20  0.101647                  (XL, weight_less_70)\n",
            "21  0.242555     (height_less_170, weight_less_60)\n",
            "22  0.165522     (height_less_170, weight_less_70)\n",
            "23  0.080902     (height_less_180, weight_less_60)\n",
            "24  0.136009     (height_less_180, weight_less_70)\n",
            "25  0.093607  (height_less_170, weight_less_60, M)\n",
            "26  0.084185  (height_less_170, weight_less_60, S)\n"
          ]
        },
        {
          "output_type": "display_data",
          "data": {
            "text/plain": [
              "<Figure size 1000x600 with 1 Axes>"
            ],
            "image/png": "[encoded data removed]"
          },
          "metadata": {}
        }
      ]
    },
    {
      "cell_type": "code",
      "source": [
        "frequent_itemsets['num_itemsets'] = len(frequent_itemsets)\n",
        "rules = association_rules(frequent_itemsets, metric=\"confidence\", min_threshold=0.08, num_itemsets = frequent_itemsets['num_itemsets'])\n",
        "print(\"-------------------------연관 규칙-------------------------\")\n",
        "print(rules[['antecedents', 'consequents', 'support', 'confidence', 'lift']])"
      ],
      "metadata": {
        "colab": {
          "base_uri": "https://localhost:8080/"
        },
        "id": "Ec8tr0mI9cVr",
        "outputId": "b125b535-3efb-43cb-db20-e99de10bd7ca"
      },
      "execution_count": 12,
      "outputs": [
        {
          "output_type": "stream",
          "name": "stdout",
          "text": [
            "-------------------------연관 규칙-------------------------\n",
            "                          antecedents                        consequents  \\\n",
            "0                               (2XL)                  (height_less_170)   \n",
            "1                   (height_less_170)                              (2XL)   \n",
            "2                    (weight_less_80)                              (2XL)   \n",
            "3                               (2XL)                   (weight_less_80)   \n",
            "4                                 (L)                   (weight_less_70)   \n",
            "5                    (weight_less_70)                                (L)   \n",
            "6                   (height_less_170)                                (M)   \n",
            "7                                 (M)                  (height_less_170)   \n",
            "8                    (weight_less_60)                                (M)   \n",
            "9                                 (M)                   (weight_less_60)   \n",
            "10                   (weight_less_70)                                (M)   \n",
            "11                                (M)                   (weight_less_70)   \n",
            "12                  (height_less_170)                                (S)   \n",
            "13                                (S)                  (height_less_170)   \n",
            "14                   (weight_less_60)                                (S)   \n",
            "15                                (S)                   (weight_less_60)   \n",
            "16                               (XL)                   (weight_less_70)   \n",
            "17                   (weight_less_70)                               (XL)   \n",
            "18                  (height_less_170)                   (weight_less_60)   \n",
            "19                   (weight_less_60)                  (height_less_170)   \n",
            "20                  (height_less_170)                   (weight_less_70)   \n",
            "21                   (weight_less_70)                  (height_less_170)   \n",
            "22                  (height_less_180)                   (weight_less_60)   \n",
            "23                   (weight_less_60)                  (height_less_180)   \n",
            "24                  (height_less_180)                   (weight_less_70)   \n",
            "25                   (weight_less_70)                  (height_less_180)   \n",
            "26  (height_less_170, weight_less_60)                                (M)   \n",
            "27               (height_less_170, M)                   (weight_less_60)   \n",
            "28                (weight_less_60, M)                  (height_less_170)   \n",
            "29                  (height_less_170)                (weight_less_60, M)   \n",
            "30                   (weight_less_60)               (height_less_170, M)   \n",
            "31                                (M)  (height_less_170, weight_less_60)   \n",
            "32  (height_less_170, weight_less_60)                                (S)   \n",
            "33               (height_less_170, S)                   (weight_less_60)   \n",
            "34                (weight_less_60, S)                  (height_less_170)   \n",
            "35                  (height_less_170)                (weight_less_60, S)   \n",
            "36                   (weight_less_60)               (height_less_170, S)   \n",
            "37                                (S)  (height_less_170, weight_less_60)   \n",
            "\n",
            "     support  confidence      lift  \n",
            "0   0.083858    0.468510  0.906486  \n",
            "1   0.083858    0.162251  0.906486  \n",
            "2   0.085642    0.634013  3.542192  \n",
            "3   0.085642    0.478477  3.542192  \n",
            "4   0.097116    0.661532  1.956254  \n",
            "5   0.097116    0.287186  1.956254  \n",
            "6   0.135540    0.262246  1.056524  \n",
            "7   0.135540    0.546056  1.056524  \n",
            "8   0.156494    0.387676  1.561850  \n",
            "9   0.156494    0.630474  1.561850  \n",
            "10  0.084093    0.248675  1.001849  \n",
            "11  0.084093    0.338788  1.001849  \n",
            "12  0.101504    0.196393  1.072054  \n",
            "13  0.101504    0.554082  1.072054  \n",
            "14  0.142022    0.351826  1.920517  \n",
            "15  0.142022    0.775258  1.920517  \n",
            "16  0.101647    0.636612  1.882559  \n",
            "17  0.101647    0.300584  1.882559  \n",
            "18  0.242555    0.469301  1.162582  \n",
            "19  0.242555    0.600871  1.162582  \n",
            "20  0.165522    0.320257  0.947049  \n",
            "21  0.165522    0.489474  0.947049  \n",
            "22  0.080902    0.266895  0.661169  \n",
            "23  0.080902    0.200415  0.661169  \n",
            "24  0.136009    0.448693  1.326855  \n",
            "25  0.136009    0.402199  1.326855  \n",
            "26  0.093607    0.385919  1.554772  \n",
            "27  0.093607    0.690620  1.710847  \n",
            "28  0.093607    0.598148  1.157314  \n",
            "29  0.093607    0.181113  1.157314  \n",
            "30  0.093607    0.231888  1.710847  \n",
            "31  0.093607    0.377117  1.554772  \n",
            "32  0.084185    0.347075  1.894587  \n",
            "33  0.084185    0.829373  2.054574  \n",
            "34  0.084185    0.592759  1.146886  \n",
            "35  0.084185    0.162883  1.146886  \n",
            "36  0.084185    0.208548  2.054574  \n",
            "37  0.084185    0.459541  1.894587  \n"
          ]
        },
        {
          "output_type": "stream",
          "name": "stderr",
          "text": [
            "/usr/local/lib/python3.10/dist-packages/ipykernel/ipkernel.py:283: DeprecationWarning: `should_run_async` will not call `transform_cell` automatically in the future. Please pass the result to `transformed_cell` argument and any exception that happen during thetransform in `preprocessing_exc_tuple` in IPython 7.17 and above.\n",
            "  and should_run_async(code)\n"
          ]
        }
      ]
    },
    {
      "cell_type": "code",
      "source": [
        "height_to_size_rules = rules[\n",
        "    (rules['antecedents'].apply(lambda x: any(item.startswith('height') for item in x))) &\n",
        "    (rules['consequents'].apply(lambda x: any(item in ['XS', 'S', 'M', 'L', 'XL', '2XL'] for item in x)))\n",
        "]\n",
        "\n",
        "# Confidence 기준으로 내림차순 정렬\n",
        "height_to_size_rules = height_to_size_rules.sort_values(by='confidence', ascending=False)\n",
        "\n",
        "print(\"-------------------------키 -> 사이즈 연관 규칙-----------------------\")\n",
        "print(height_to_size_rules[['antecedents', 'consequents', 'support', 'confidence', 'lift']])"
      ],
      "metadata": {
        "colab": {
          "base_uri": "https://localhost:8080/"
        },
        "id": "e1UhvRRtM8dJ",
        "outputId": "e04cf6b0-62a0-4998-b00b-fdf7a9cb730d"
      },
      "execution_count": 13,
      "outputs": [
        {
          "output_type": "stream",
          "name": "stdout",
          "text": [
            "-------------------------키 -> 사이즈 연관 규칙-----------------------\n",
            "                          antecedents          consequents   support  \\\n",
            "26  (height_less_170, weight_less_60)                  (M)  0.093607   \n",
            "32  (height_less_170, weight_less_60)                  (S)  0.084185   \n",
            "6                   (height_less_170)                  (M)  0.135540   \n",
            "12                  (height_less_170)                  (S)  0.101504   \n",
            "29                  (height_less_170)  (weight_less_60, M)  0.093607   \n",
            "35                  (height_less_170)  (weight_less_60, S)  0.084185   \n",
            "1                   (height_less_170)                (2XL)  0.083858   \n",
            "\n",
            "    confidence      lift  \n",
            "26    0.385919  1.554772  \n",
            "32    0.347075  1.894587  \n",
            "6     0.262246  1.056524  \n",
            "12    0.196393  1.072054  \n",
            "29    0.181113  1.157314  \n",
            "35    0.162883  1.146886  \n",
            "1     0.162251  0.906486  \n"
          ]
        },
        {
          "output_type": "stream",
          "name": "stderr",
          "text": [
            "/usr/local/lib/python3.10/dist-packages/ipykernel/ipkernel.py:283: DeprecationWarning: `should_run_async` will not call `transform_cell` automatically in the future. Please pass the result to `transformed_cell` argument and any exception that happen during thetransform in `preprocessing_exc_tuple` in IPython 7.17 and above.\n",
            "  and should_run_async(code)\n"
          ]
        }
      ]
    },
    {
      "cell_type": "code",
      "source": [
        "weight_to_size_rules = rules[\n",
        "    (rules['antecedents'].apply(lambda x: any(item.startswith('weight_') for item in x))) &\n",
        "    (rules['consequents'].apply(lambda x: any(item in ['XS', 'S', 'M', 'L', 'XL', '2XL'] for item in x)))\n",
        "]\n",
        "\n",
        "# Confidence 기준으로 내림차순 정렬\n",
        "weight_to_size_rules = weight_to_size_rules.sort_values(by='confidence', ascending=False)\n",
        "\n",
        "print(\"-------------------------몸무게 -> 사이즈 규칙-------------------------\")\n",
        "print(weight_to_size_rules[['antecedents', 'consequents', 'support', 'confidence', 'lift']])"
      ],
      "metadata": {
        "colab": {
          "base_uri": "https://localhost:8080/"
        },
        "id": "7-GYl-TgNrEu",
        "outputId": "2dc5a5ff-c341-4c7c-a140-2854c5fe9415"
      },
      "execution_count": 14,
      "outputs": [
        {
          "output_type": "stream",
          "name": "stdout",
          "text": [
            "-------------------------몸무게 -> 사이즈 규칙-------------------------\n",
            "                          antecedents           consequents   support  \\\n",
            "2                    (weight_less_80)                 (2XL)  0.085642   \n",
            "8                    (weight_less_60)                   (M)  0.156494   \n",
            "26  (height_less_170, weight_less_60)                   (M)  0.093607   \n",
            "14                   (weight_less_60)                   (S)  0.142022   \n",
            "32  (height_less_170, weight_less_60)                   (S)  0.084185   \n",
            "17                   (weight_less_70)                  (XL)  0.101647   \n",
            "5                    (weight_less_70)                   (L)  0.097116   \n",
            "10                   (weight_less_70)                   (M)  0.084093   \n",
            "30                   (weight_less_60)  (height_less_170, M)  0.093607   \n",
            "36                   (weight_less_60)  (height_less_170, S)  0.084185   \n",
            "\n",
            "    confidence      lift  \n",
            "2     0.634013  3.542192  \n",
            "8     0.387676  1.561850  \n",
            "26    0.385919  1.554772  \n",
            "14    0.351826  1.920517  \n",
            "32    0.347075  1.894587  \n",
            "17    0.300584  1.882559  \n",
            "5     0.287186  1.956254  \n",
            "10    0.248675  1.001849  \n",
            "30    0.231888  1.710847  \n",
            "36    0.208548  2.054574  \n"
          ]
        },
        {
          "output_type": "stream",
          "name": "stderr",
          "text": [
            "/usr/local/lib/python3.10/dist-packages/ipykernel/ipkernel.py:283: DeprecationWarning: `should_run_async` will not call `transform_cell` automatically in the future. Please pass the result to `transformed_cell` argument and any exception that happen during thetransform in `preprocessing_exc_tuple` in IPython 7.17 and above.\n",
            "  and should_run_async(code)\n"
          ]
        }
      ]
    },
    {
      "cell_type": "code",
      "source": [
        "# 키, 몸무게 -> 사이즈 연관 규칙\n",
        "height_weight_to_size_rules = rules[\n",
        "    (rules['antecedents'].apply(lambda x: any(item.startswith('height_') or item.startswith('weight_') for item in x))) &  # 키와 몸무게 관련 항목\n",
        "    (rules['consequents'].apply(lambda x: any(item in ['XS', 'S', 'M', 'L', 'XL', '2XL'] for item in x)))  # 사이즈 관련 항목\n",
        "]\n",
        "\n",
        "height_weight_to_size_rules = height_weight_to_size_rules.sort_values(by='confidence', ascending=False)\n",
        "\n",
        "print(\"------------------------- (키, 몸무게) -> 사이즈 규칙-------------------------\")\n",
        "print(height_weight_to_size_rules[['antecedents', 'consequents', 'support', 'confidence', 'lift']])"
      ],
      "metadata": {
        "colab": {
          "base_uri": "https://localhost:8080/"
        },
        "id": "q-tvv_DURiKT",
        "outputId": "39546c6a-d42b-449a-ab5e-97e7352c07cc"
      },
      "execution_count": 53,
      "outputs": [
        {
          "output_type": "stream",
          "name": "stdout",
          "text": [
            "------------------------- (키, 몸무게) -> 사이즈 규칙-------------------------\n",
            "                          antecedents           consequents   support  \\\n",
            "2                    (weight_less_80)                 (2XL)  0.085642   \n",
            "8                    (weight_less_60)                   (M)  0.156494   \n",
            "26  (height_less_170, weight_less_60)                   (M)  0.093607   \n",
            "14                   (weight_less_60)                   (S)  0.142022   \n",
            "32  (height_less_170, weight_less_60)                   (S)  0.084185   \n",
            "17                   (weight_less_70)                  (XL)  0.101647   \n",
            "5                    (weight_less_70)                   (L)  0.097116   \n",
            "6                   (height_less_170)                   (M)  0.135540   \n",
            "10                   (weight_less_70)                   (M)  0.084093   \n",
            "30                   (weight_less_60)  (height_less_170, M)  0.093607   \n",
            "36                   (weight_less_60)  (height_less_170, S)  0.084185   \n",
            "12                  (height_less_170)                   (S)  0.101504   \n",
            "29                  (height_less_170)   (weight_less_60, M)  0.093607   \n",
            "35                  (height_less_170)   (weight_less_60, S)  0.084185   \n",
            "1                   (height_less_170)                 (2XL)  0.083858   \n",
            "\n",
            "    confidence      lift  \n",
            "2     0.634013  3.542192  \n",
            "8     0.387676  1.561850  \n",
            "26    0.385919  1.554772  \n",
            "14    0.351826  1.920517  \n",
            "32    0.347075  1.894587  \n",
            "17    0.300584  1.882559  \n",
            "5     0.287186  1.956254  \n",
            "6     0.262246  1.056524  \n",
            "10    0.248675  1.001849  \n",
            "30    0.231888  1.710847  \n",
            "36    0.208548  2.054574  \n",
            "12    0.196393  1.072054  \n",
            "29    0.181113  1.157314  \n",
            "35    0.162883  1.146886  \n",
            "1     0.162251  0.906486  \n"
          ]
        },
        {
          "output_type": "stream",
          "name": "stderr",
          "text": [
            "/usr/local/lib/python3.10/dist-packages/ipykernel/ipkernel.py:283: DeprecationWarning: `should_run_async` will not call `transform_cell` automatically in the future. Please pass the result to `transformed_cell` argument and any exception that happen during thetransform in `preprocessing_exc_tuple` in IPython 7.17 and above.\n",
            "  and should_run_async(code)\n"
          ]
        }
      ]
    },
    {
      "cell_type": "code",
      "source": [
        "height_mapping = {\n",
        "    'height_less_150': (0, 149),\n",
        "    'height_less_160': (150, 159),\n",
        "    'height_less_170': (160, 169),\n",
        "    'height_less_180': (170, 179),\n",
        "    'height_over_180': (180, float('inf'))\n",
        "}\n",
        "\n",
        "weight_mapping = {\n",
        "    'weight_less_50': (0, 49),\n",
        "    'weight_less_60': (50, 59),\n",
        "    'weight_less_70': (60, 69),\n",
        "    'weight_less_80': (70, 79),\n",
        "    'weight_over_80': (80, float('inf'))\n",
        "}"
      ],
      "metadata": {
        "colab": {
          "base_uri": "https://localhost:8080/"
        },
        "id": "HarXN-GPNKum",
        "outputId": "a26ebb3e-77d3-464a-b155-3007c07f85e9"
      },
      "execution_count": 72,
      "outputs": [
        {
          "output_type": "stream",
          "name": "stderr",
          "text": [
            "/usr/local/lib/python3.10/dist-packages/ipykernel/ipkernel.py:283: DeprecationWarning: `should_run_async` will not call `transform_cell` automatically in the future. Please pass the result to `transformed_cell` argument and any exception that happen during thetransform in `preprocessing_exc_tuple` in IPython 7.17 and above.\n",
            "  and should_run_async(code)\n"
          ]
        }
      ]
    },
    {
      "cell_type": "code",
      "source": [
        "def extract_ranges(antecedents):\n",
        "    min_height, max_height, min_weight, max_weight = None, None, None, None\n",
        "\n",
        "    for item in antecedents:\n",
        "        if item.startswith('height_'):\n",
        "            height_range = height_mapping.get(item)\n",
        "            if height_range:\n",
        "                min_height, max_height = height_range\n",
        "        elif item.startswith('weight_'):\n",
        "            weight_range = weight_mapping.get(item)\n",
        "            if weight_range:\n",
        "                min_weight, max_weight = weight_range\n",
        "\n",
        "    return min_height, max_height, min_weight, max_weight\n",
        "\n",
        "# 각 사이즈를 개별적으로 처리\n",
        "expanded_rows = []\n",
        "\n",
        "for _, row in height_weight_to_size_rules.iterrows():\n",
        "    antecedents = row['antecedents']\n",
        "    consequents = row['consequents']\n",
        "    min_height, max_height, min_weight, max_weight = extract_ranges(antecedents)\n",
        "\n",
        "    # 여러 사이즈가 있을 때, 하나씩 분리해서 처리\n",
        "    for size in consequents:\n",
        "        expanded_rows.append({\n",
        "            'min_height': min_height,\n",
        "            'max_height': max_height,\n",
        "            'min_weight': min_weight,\n",
        "            'max_weight': max_weight,\n",
        "            'size': size\n",
        "        })\n",
        "\n",
        "# DataFrame으로 변환\n",
        "expanded_df = pd.DataFrame(expanded_rows)\n",
        "\n",
        "# CSV로 저장\n",
        "result_file_path = 'apriori_result.csv'\n",
        "expanded_df.to_csv(result_file_path, index=False)"
      ],
      "metadata": {
        "colab": {
          "base_uri": "https://localhost:8080/"
        },
        "id": "74daFQyKM4pR",
        "outputId": "d52c045b-8387-4e88-c46a-37f82feefbfd"
      },
      "execution_count": 76,
      "outputs": [
        {
          "output_type": "stream",
          "name": "stderr",
          "text": [
            "/usr/local/lib/python3.10/dist-packages/ipykernel/ipkernel.py:283: DeprecationWarning: `should_run_async` will not call `transform_cell` automatically in the future. Please pass the result to `transformed_cell` argument and any exception that happen during thetransform in `preprocessing_exc_tuple` in IPython 7.17 and above.\n",
            "  and should_run_async(code)\n"
          ]
        }
      ]
    },
    {
      "cell_type": "code",
      "source": [
        "from google.colab import files\n",
        "files.download(result_file_path)"
      ],
      "metadata": {
        "colab": {
          "base_uri": "https://localhost:8080/",
          "height": 73
        },
        "id": "x1qZsmA7I35R",
        "outputId": "316576c5-b3a2-4057-bf24-90ded2f6f9e7"
      },
      "execution_count": 74,
      "outputs": [
        {
          "output_type": "stream",
          "name": "stderr",
          "text": [
            "/usr/local/lib/python3.10/dist-packages/ipykernel/ipkernel.py:283: DeprecationWarning: `should_run_async` will not call `transform_cell` automatically in the future. Please pass the result to `transformed_cell` argument and any exception that happen during thetransform in `preprocessing_exc_tuple` in IPython 7.17 and above.\n",
            "  and should_run_async(code)\n"
          ]
        },
        {
          "output_type": "display_data",
          "data": {
            "text/plain": [
              "<IPython.core.display.Javascript object>"
            ],
            "application/javascript": [
              "\n",
              "    async function download(id, filename, size) {\n",
              "      if (!google.colab.kernel.accessAllowed) {\n",
              "        return;\n",
              "      }\n",
              "      const div = document.createElement('div');\n",
              "      const label = document.createElement('label');\n",
              "      label.textContent = `Downloading \"${filename}\": `;\n",
              "      div.appendChild(label);\n",
              "      const progress = document.createElement('progress');\n",
              "      progress.max = size;\n",
              "      div.appendChild(progress);\n",
              "      document.body.appendChild(div);\n",
              "\n",
              "      const buffers = [];\n",
              "      let downloaded = 0;\n",
              "\n",
              "      const channel = await google.colab.kernel.comms.open(id);\n",
              "      // Send a message to notify the kernel that we're ready.\n",
              "      channel.send({})\n",
              "\n",
              "      for await (const message of channel.messages) {\n",
              "        // Send a message to notify the kernel that we're ready.\n",
              "        channel.send({})\n",
              "        if (message.buffers) {\n",
              "          for (const buffer of message.buffers) {\n",
              "            buffers.push(buffer);\n",
              "            downloaded += buffer.byteLength;\n",
              "            progress.value = downloaded;\n",
              "          }\n",
              "        }\n",
              "      }\n",
              "      const blob = new Blob(buffers, {type: 'application/binary'});\n",
              "      const a = document.createElement('a');\n",
              "      a.href = window.URL.createObjectURL(blob);\n",
              "      a.download = filename;\n",
              "      div.appendChild(a);\n",
              "      a.click();\n",
              "      div.remove();\n",
              "    }\n",
              "  "
            ]
          },
          "metadata": {}
        },
        {
          "output_type": "display_data",
          "data": {
            "text/plain": [
              "<IPython.core.display.Javascript object>"
            ],
            "application/javascript": [
              "download(\"download_45d9a84d-6245-4c65-b415-c9f8c7c47ef6\", \"expanded_height_weight_to_size_rules.csv\", 408)"
            ]
          },
          "metadata": {}
        }
      ]
    }
  ]
}