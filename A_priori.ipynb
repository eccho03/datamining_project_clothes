{
  "nbformat": 4,
  "nbformat_minor": 0,
  "metadata": {
    "colab": {
      "provenance": [],
      "authorship_tag": "ABX9TyMXGv6oPE4o/+h93k+s3ARX",
      "include_colab_link": true
    },
    "kernelspec": {
      "name": "python3",
      "display_name": "Python 3"
    },
    "language_info": {
      "name": "python"
    }
  },
  "cells": [
    {
      "cell_type": "markdown",
      "metadata": {
        "id": "view-in-github",
        "colab_type": "text"
      },
      "source": [
        "<a href=\"https://colab.research.google.com/github/eccho03/datamining_project_clothes/blob/main/A_priori.ipynb\" target=\"_parent\"><img src=\"https://colab.research.google.com/assets/colab-badge.svg\" alt=\"Open In Colab\"/></a>"
      ]
    },
    {
      "cell_type": "code",
      "source": [
        "import pandas as pd\n",
        "import warnings\n",
        "warnings.simplefilter('ignore', DeprecationWarning)"
      ],
      "metadata": {
        "id": "IEHFwX6F6wTb"
      },
      "execution_count": 2,
      "outputs": []
    },
    {
      "cell_type": "code",
      "source": [
        "# CSV 파일 읽기\n",
        "data = pd.read_csv('https://raw.githubusercontent.com/eccho03/datamining_project_clothes/refs/heads/main/size_selection_info.csv')\n",
        "\n",
        "# 데이터 확인\n",
        "print(data.head())"
      ],
      "metadata": {
        "colab": {
          "base_uri": "https://localhost:8080/"
        },
        "id": "GFXcjvvT06jg",
        "outputId": "0b7096b1-151c-4178-e645-128bafcaa6e3"
      },
      "execution_count": 3,
      "outputs": [
        {
          "output_type": "stream",
          "name": "stdout",
          "text": [
            "   weight   age  height size\n",
            "0      62  28.0  172.72   XL\n",
            "1      59  36.0  167.64    L\n",
            "2      61  34.0  165.10    M\n",
            "3      65  27.0  175.26    L\n",
            "4      62  45.0  172.72    M\n"
          ]
        }
      ]
    },
    {
      "cell_type": "code",
      "source": [
        "# 키와 몸무게를 숫자형으로 변환\n",
        "data['height'] = pd.to_numeric(data['height'], errors='coerce')\n",
        "data['weight'] = pd.to_numeric(data['weight'], errors='coerce')\n",
        "\n",
        "# 결측값 제거\n",
        "data.dropna(subset=['height', 'weight'], inplace=True)"
      ],
      "metadata": {
        "id": "s_PyapTFLmMI"
      },
      "execution_count": 4,
      "outputs": []
    },
    {
      "cell_type": "code",
      "source": [
        "# 키 범주화\n",
        "bins_height = [0, 160, 170, 180, float('inf')]\n",
        "labels_height = ['height_less_160', 'height_less_170', 'height_less_180', 'height_over_180']\n",
        "data['height_range'] = pd.cut(data['height'], bins=bins_height, labels=labels_height, right=False)\n",
        "\n",
        "# 몸무게 범주화\n",
        "bins_weight = [0, 50, 60, 70, 80, float('inf')]\n",
        "labels_weight = ['weight_less_50', 'weight_less_60', 'weight_less_70', 'weight_less_80', 'weight_over_80']\n",
        "data['weight_range'] = pd.cut(data['weight'], bins=bins_weight, labels=labels_weight, right=False)\n",
        "\n",
        "# 사이즈 범주화\n",
        "size_mapping = {\n",
        "    'XXXS': 'XS', 'XXS': 'XS', 'XS': 'XS',\n",
        "    'S': 'S',\n",
        "    'M': 'M',\n",
        "    'L': 'L',\n",
        "    'XL': 'XL', 'XXL': 'XL', 'XXXL': 'XL'\n",
        "}\n",
        "data['size_range'] = data['size'].replace(size_mapping)\n",
        "data['size_range'] = data['size'].replace(size_mapping).fillna('Unknown') # 예외 처리\n",
        "\n",
        "# 결과 확인\n",
        "print(data.head())"
      ],
      "metadata": {
        "colab": {
          "base_uri": "https://localhost:8080/"
        },
        "id": "CmAvUcnd2iFk",
        "outputId": "6f256ca8-3182-4216-a88f-488b670ed8c6"
      },
      "execution_count": 5,
      "outputs": [
        {
          "output_type": "stream",
          "name": "stdout",
          "text": [
            "   weight   age  height size     height_range    weight_range size_range\n",
            "0      62  28.0  172.72   XL  height_less_180  weight_less_70         XL\n",
            "1      59  36.0  167.64    L  height_less_170  weight_less_60          L\n",
            "2      61  34.0  165.10    M  height_less_170  weight_less_70          M\n",
            "3      65  27.0  175.26    L  height_less_180  weight_less_70          L\n",
            "4      62  45.0  172.72    M  height_less_180  weight_less_70          M\n"
          ]
        }
      ]
    },
    {
      "cell_type": "code",
      "source": [
        "# 범주화된 데이터를 트랜잭션으로 변환\n",
        "transactions = data[['height_range', 'weight_range', 'size']].apply(lambda x: set(x), axis=1).tolist()\n",
        "\n",
        "# 트랜잭션 데이터를 이진화\n",
        "from mlxtend.preprocessing import TransactionEncoder\n",
        "\n",
        "te = TransactionEncoder()\n",
        "te_ary = te.fit(transactions).transform(transactions)\n",
        "encoded_df = pd.DataFrame(te_ary, columns=te.columns_)"
      ],
      "metadata": {
        "id": "G_j4jGXT3xU4"
      },
      "execution_count": 6,
      "outputs": []
    },
    {
      "cell_type": "code",
      "source": [
        "from mlxtend.frequent_patterns import apriori\n",
        "from mlxtend.frequent_patterns import association_rules\n",
        "import matplotlib.pyplot as plt\n",
        "\n",
        "frequent_itemsets = apriori(encoded_df, min_support=0.08, use_colnames=True)\n",
        "print(\"----------------frequent itemsets-----------------\")\n",
        "print(frequent_itemsets)\n",
        "\n",
        "\n",
        "# 각 항목별 빈도 계산\n",
        "item_frequencies = encoded_df.sum().sort_values(ascending=False)\n",
        "\n",
        "# 시각화\n",
        "plt.figure(figsize=(10, 6))\n",
        "plt.bar(item_frequencies.index, item_frequencies.values, color='skyblue')\n",
        "plt.xlabel('Items', fontsize=10)\n",
        "plt.ylabel('Frequency', fontsize=10)\n",
        "plt.title('Frequency of Items', fontsize=12)\n",
        "plt.xticks(rotation=45, ha='right')  # 항목 이름이 길 경우\n",
        "plt.tight_layout()\n",
        "plt.show()"
      ],
      "metadata": {
        "colab": {
          "base_uri": "https://localhost:8080/",
          "height": 1000
        },
        "id": "i5UcD43RMGAm",
        "outputId": "ca25fd8c-1a55-4747-ca7d-e241d2474ddc"
      },
      "execution_count": 10,
      "outputs": [
        {
          "output_type": "stream",
          "name": "stderr",
          "text": [
            "/usr/local/lib/python3.10/dist-packages/ipykernel/ipkernel.py:283: DeprecationWarning: `should_run_async` will not call `transform_cell` automatically in the future. Please pass the result to `transformed_cell` argument and any exception that happen during thetransform in `preprocessing_exc_tuple` in IPython 7.17 and above.\n",
            "  and should_run_async(code)\n"
          ]
        },
        {
          "output_type": "stream",
          "name": "stdout",
          "text": [
            "----------------frequent itemsets-----------------\n",
            "     support                              itemsets\n",
            "0   0.146804                                   (L)\n",
            "1   0.248216                                   (M)\n",
            "2   0.183193                                   (S)\n",
            "3   0.159668                                  (XL)\n",
            "4   0.083130                                 (XXS)\n",
            "5   0.178411                                (XXXL)\n",
            "6   0.154919                     (height_less_160)\n",
            "7   0.516842                     (height_less_170)\n",
            "8   0.303122                     (height_less_180)\n",
            "9   0.403672                      (weight_less_60)\n",
            "10  0.338163                      (weight_less_70)\n",
            "11  0.135079                      (weight_less_80)\n",
            "12  0.097116                   (weight_less_70, L)\n",
            "13  0.135540                  (height_less_170, M)\n",
            "14  0.156494                   (M, weight_less_60)\n",
            "15  0.084093                   (weight_less_70, M)\n",
            "16  0.101504                  (height_less_170, S)\n",
            "17  0.142022                   (S, weight_less_60)\n",
            "18  0.101647                  (XL, weight_less_70)\n",
            "19  0.083624               (height_less_170, XXXL)\n",
            "20  0.085483                (weight_less_80, XXXL)\n",
            "21  0.242555     (height_less_170, weight_less_60)\n",
            "22  0.165522     (height_less_170, weight_less_70)\n",
            "23  0.080902     (height_less_180, weight_less_60)\n",
            "24  0.136009     (height_less_180, weight_less_70)\n",
            "25  0.093607  (height_less_170, M, weight_less_60)\n",
            "26  0.084185  (height_less_170, S, weight_less_60)\n"
          ]
        },
        {
          "output_type": "display_data",
          "data": {
            "text/plain": [
              "<Figure size 1000x600 with 1 Axes>"
            ],
            "image/png": "[encoded data removed]"
          },
          "metadata": {}
        }
      ]
    },
    {
      "cell_type": "code",
      "source": [
        "frequent_itemsets['num_itemsets'] = len(frequent_itemsets)\n",
        "rules = association_rules(frequent_itemsets, metric=\"confidence\", min_threshold=0.08, num_itemsets=frequent_itemsets['num_itemsets'])\n",
        "\n",
        "print(\"------------------------------연관 규칙----------------------------\\n\")\n",
        "print(rules[['antecedents', 'consequents', 'support', 'confidence', 'lift']])"
      ],
      "metadata": {
        "colab": {
          "base_uri": "https://localhost:8080/"
        },
        "id": "O1NolYE7KP3A",
        "outputId": "b474bdb8-f09f-4bcf-91e9-ef8aa3b7eb07"
      },
      "execution_count": 13,
      "outputs": [
        {
          "output_type": "stream",
          "name": "stdout",
          "text": [
            "------------------------------연관 규칙----------------------------\n",
            "\n",
            "                          antecedents                        consequents  \\\n",
            "0                    (weight_less_70)                                (L)   \n",
            "1                                 (L)                   (weight_less_70)   \n",
            "2                   (height_less_170)                                (M)   \n",
            "3                                 (M)                  (height_less_170)   \n",
            "4                                 (M)                   (weight_less_60)   \n",
            "5                    (weight_less_60)                                (M)   \n",
            "6                    (weight_less_70)                                (M)   \n",
            "7                                 (M)                   (weight_less_70)   \n",
            "8                   (height_less_170)                                (S)   \n",
            "9                                 (S)                  (height_less_170)   \n",
            "10                                (S)                   (weight_less_60)   \n",
            "11                   (weight_less_60)                                (S)   \n",
            "12                               (XL)                   (weight_less_70)   \n",
            "13                   (weight_less_70)                               (XL)   \n",
            "14                  (height_less_170)                             (XXXL)   \n",
            "15                             (XXXL)                  (height_less_170)   \n",
            "16                   (weight_less_80)                             (XXXL)   \n",
            "17                             (XXXL)                   (weight_less_80)   \n",
            "18                  (height_less_170)                   (weight_less_60)   \n",
            "19                   (weight_less_60)                  (height_less_170)   \n",
            "20                  (height_less_170)                   (weight_less_70)   \n",
            "21                   (weight_less_70)                  (height_less_170)   \n",
            "22                  (height_less_180)                   (weight_less_60)   \n",
            "23                   (weight_less_60)                  (height_less_180)   \n",
            "24                  (height_less_180)                   (weight_less_70)   \n",
            "25                   (weight_less_70)                  (height_less_180)   \n",
            "26               (height_less_170, M)                   (weight_less_60)   \n",
            "27  (height_less_170, weight_less_60)                                (M)   \n",
            "28                (M, weight_less_60)                  (height_less_170)   \n",
            "29                  (height_less_170)                (M, weight_less_60)   \n",
            "30                                (M)  (height_less_170, weight_less_60)   \n",
            "31                   (weight_less_60)               (height_less_170, M)   \n",
            "32               (height_less_170, S)                   (weight_less_60)   \n",
            "33  (height_less_170, weight_less_60)                                (S)   \n",
            "34                (S, weight_less_60)                  (height_less_170)   \n",
            "35                  (height_less_170)                (S, weight_less_60)   \n",
            "36                                (S)  (height_less_170, weight_less_60)   \n",
            "37                   (weight_less_60)               (height_less_170, S)   \n",
            "\n",
            "     support  confidence      lift  \n",
            "0   0.097116    0.287186  1.956254  \n",
            "1   0.097116    0.661532  1.956254  \n",
            "2   0.135540    0.262246  1.056524  \n",
            "3   0.135540    0.546056  1.056524  \n",
            "4   0.156494    0.630474  1.561850  \n",
            "5   0.156494    0.387676  1.561850  \n",
            "6   0.084093    0.248675  1.001849  \n",
            "7   0.084093    0.338788  1.001849  \n",
            "8   0.101504    0.196393  1.072054  \n",
            "9   0.101504    0.554082  1.072054  \n",
            "10  0.142022    0.775258  1.920517  \n",
            "11  0.142022    0.351826  1.920517  \n",
            "12  0.101647    0.636612  1.882559  \n",
            "13  0.101647    0.300584  1.882559  \n",
            "14  0.083624    0.161797  0.906879  \n",
            "15  0.083624    0.468713  0.906879  \n",
            "16  0.085483    0.632835  3.547062  \n",
            "17  0.085483    0.479134  3.547062  \n",
            "18  0.242555    0.469301  1.162582  \n",
            "19  0.242555    0.600871  1.162582  \n",
            "20  0.165522    0.320257  0.947049  \n",
            "21  0.165522    0.489474  0.947049  \n",
            "22  0.080902    0.266895  0.661169  \n",
            "23  0.080902    0.200415  0.661169  \n",
            "24  0.136009    0.448693  1.326855  \n",
            "25  0.136009    0.402199  1.326855  \n",
            "26  0.093607    0.690620  1.710847  \n",
            "27  0.093607    0.385919  1.554772  \n",
            "28  0.093607    0.598148  1.157314  \n",
            "29  0.093607    0.181113  1.157314  \n",
            "30  0.093607    0.377117  1.554772  \n",
            "31  0.093607    0.231888  1.710847  \n",
            "32  0.084185    0.829373  2.054574  \n",
            "33  0.084185    0.347075  1.894587  \n",
            "34  0.084185    0.592759  1.146886  \n",
            "35  0.084185    0.162883  1.146886  \n",
            "36  0.084185    0.459541  1.894587  \n",
            "37  0.084185    0.208548  2.054574  \n"
          ]
        },
        {
          "output_type": "stream",
          "name": "stderr",
          "text": [
            "/usr/local/lib/python3.10/dist-packages/ipykernel/ipkernel.py:283: DeprecationWarning: `should_run_async` will not call `transform_cell` automatically in the future. Please pass the result to `transformed_cell` argument and any exception that happen during thetransform in `preprocessing_exc_tuple` in IPython 7.17 and above.\n",
            "  and should_run_async(code)\n"
          ]
        }
      ]
    },
    {
      "cell_type": "code",
      "source": [
        "height_to_size_rules = rules[\n",
        "    (rules['antecedents'].apply(lambda x: any(item.startswith('height') for item in x))) &\n",
        "    (rules['consequents'].apply(lambda x: any(item in ['XS', 'S', 'M', 'L', 'XL'] for item in x)))\n",
        "]\n",
        "\n",
        "print(\"-------------------------키 -> 사이즈 연관 규칙-----------------------\")\n",
        "print(height_to_size_rules[['antecedents', 'consequents', 'support', 'confidence', 'lift']])"
      ],
      "metadata": {
        "colab": {
          "base_uri": "https://localhost:8080/"
        },
        "id": "e1UhvRRtM8dJ",
        "outputId": "cc63a543-c38c-4ebf-bc78-f385161a072c"
      },
      "execution_count": 14,
      "outputs": [
        {
          "output_type": "stream",
          "name": "stdout",
          "text": [
            "-------------------------키 -> 사이즈 연관 규칙-----------------------\n",
            "                          antecedents          consequents   support  \\\n",
            "2                   (height_less_170)                  (M)  0.135540   \n",
            "8                   (height_less_170)                  (S)  0.101504   \n",
            "27  (height_less_170, weight_less_60)                  (M)  0.093607   \n",
            "29                  (height_less_170)  (M, weight_less_60)  0.093607   \n",
            "33  (height_less_170, weight_less_60)                  (S)  0.084185   \n",
            "35                  (height_less_170)  (S, weight_less_60)  0.084185   \n",
            "\n",
            "    confidence      lift  \n",
            "2     0.262246  1.056524  \n",
            "8     0.196393  1.072054  \n",
            "27    0.385919  1.554772  \n",
            "29    0.181113  1.157314  \n",
            "33    0.347075  1.894587  \n",
            "35    0.162883  1.146886  \n"
          ]
        },
        {
          "output_type": "stream",
          "name": "stderr",
          "text": [
            "/usr/local/lib/python3.10/dist-packages/ipykernel/ipkernel.py:283: DeprecationWarning: `should_run_async` will not call `transform_cell` automatically in the future. Please pass the result to `transformed_cell` argument and any exception that happen during thetransform in `preprocessing_exc_tuple` in IPython 7.17 and above.\n",
            "  and should_run_async(code)\n"
          ]
        }
      ]
    },
    {
      "cell_type": "code",
      "source": [
        "weight_to_size_rules = rules[\n",
        "    (rules['antecedents'].apply(lambda x: any(item.startswith('weight_') for item in x))) &\n",
        "    (rules['consequents'].apply(lambda x: any(item in ['XS', 'S', 'M', 'L', 'XL'] for item in x)))\n",
        "]\n",
        "\n",
        "print(\"-------------------------몸무게 -> 사이즈 규칙-------------------------\")\n",
        "print(weight_to_size_rules[['antecedents', 'consequents', 'support', 'confidence', 'lift']])"
      ],
      "metadata": {
        "colab": {
          "base_uri": "https://localhost:8080/"
        },
        "id": "7-GYl-TgNrEu",
        "outputId": "e106ce54-3b9c-4f0a-aaaf-97b1ded86552"
      },
      "execution_count": 15,
      "outputs": [
        {
          "output_type": "stream",
          "name": "stdout",
          "text": [
            "-------------------------몸무게 -> 사이즈 규칙-------------------------\n",
            "                          antecedents           consequents   support  \\\n",
            "0                    (weight_less_70)                   (L)  0.097116   \n",
            "5                    (weight_less_60)                   (M)  0.156494   \n",
            "6                    (weight_less_70)                   (M)  0.084093   \n",
            "11                   (weight_less_60)                   (S)  0.142022   \n",
            "13                   (weight_less_70)                  (XL)  0.101647   \n",
            "27  (height_less_170, weight_less_60)                   (M)  0.093607   \n",
            "31                   (weight_less_60)  (height_less_170, M)  0.093607   \n",
            "33  (height_less_170, weight_less_60)                   (S)  0.084185   \n",
            "37                   (weight_less_60)  (height_less_170, S)  0.084185   \n",
            "\n",
            "    confidence      lift  \n",
            "0     0.287186  1.956254  \n",
            "5     0.387676  1.561850  \n",
            "6     0.248675  1.001849  \n",
            "11    0.351826  1.920517  \n",
            "13    0.300584  1.882559  \n",
            "27    0.385919  1.554772  \n",
            "31    0.231888  1.710847  \n",
            "33    0.347075  1.894587  \n",
            "37    0.208548  2.054574  \n"
          ]
        },
        {
          "output_type": "stream",
          "name": "stderr",
          "text": [
            "/usr/local/lib/python3.10/dist-packages/ipykernel/ipkernel.py:283: DeprecationWarning: `should_run_async` will not call `transform_cell` automatically in the future. Please pass the result to `transformed_cell` argument and any exception that happen during thetransform in `preprocessing_exc_tuple` in IPython 7.17 and above.\n",
            "  and should_run_async(code)\n"
          ]
        }
      ]
    },
    {
      "cell_type": "code",
      "source": [
        "# 키, 몸무게 -> 사이즈 연관 규칙\n",
        "height_weight_to_size_rules = rules[\n",
        "    (rules['antecedents'].apply(lambda x: any(item.startswith('height_') or item.startswith('weight_') for item in x))) &  # 키와 몸무게 관련 항목\n",
        "    (rules['consequents'].apply(lambda x: any(item in ['XS', 'S', 'M', 'L', 'XL'] for item in x)))  # 사이즈 관련 항목\n",
        "]\n",
        "\n",
        "print(\"------------------------- (키, 몸무게) -> 사이즈 규칙-------------------------\")\n",
        "print(height_weight_to_size_rules[['antecedents', 'consequents', 'support', 'confidence', 'lift']])"
      ],
      "metadata": {
        "colab": {
          "base_uri": "https://localhost:8080/"
        },
        "id": "q-tvv_DURiKT",
        "outputId": "ed77aadb-df8c-444b-8588-34932f463722"
      },
      "execution_count": 16,
      "outputs": [
        {
          "output_type": "stream",
          "name": "stdout",
          "text": [
            "------------------------- (키, 몸무게) -> 사이즈 규칙-------------------------\n",
            "                          antecedents           consequents   support  \\\n",
            "0                    (weight_less_70)                   (L)  0.097116   \n",
            "2                   (height_less_170)                   (M)  0.135540   \n",
            "5                    (weight_less_60)                   (M)  0.156494   \n",
            "6                    (weight_less_70)                   (M)  0.084093   \n",
            "8                   (height_less_170)                   (S)  0.101504   \n",
            "11                   (weight_less_60)                   (S)  0.142022   \n",
            "13                   (weight_less_70)                  (XL)  0.101647   \n",
            "27  (height_less_170, weight_less_60)                   (M)  0.093607   \n",
            "29                  (height_less_170)   (M, weight_less_60)  0.093607   \n",
            "31                   (weight_less_60)  (height_less_170, M)  0.093607   \n",
            "33  (height_less_170, weight_less_60)                   (S)  0.084185   \n",
            "35                  (height_less_170)   (S, weight_less_60)  0.084185   \n",
            "37                   (weight_less_60)  (height_less_170, S)  0.084185   \n",
            "\n",
            "    confidence      lift  \n",
            "0     0.287186  1.956254  \n",
            "2     0.262246  1.056524  \n",
            "5     0.387676  1.561850  \n",
            "6     0.248675  1.001849  \n",
            "8     0.196393  1.072054  \n",
            "11    0.351826  1.920517  \n",
            "13    0.300584  1.882559  \n",
            "27    0.385919  1.554772  \n",
            "29    0.181113  1.157314  \n",
            "31    0.231888  1.710847  \n",
            "33    0.347075  1.894587  \n",
            "35    0.162883  1.146886  \n",
            "37    0.208548  2.054574  \n"
          ]
        },
        {
          "output_type": "stream",
          "name": "stderr",
          "text": [
            "/usr/local/lib/python3.10/dist-packages/ipykernel/ipkernel.py:283: DeprecationWarning: `should_run_async` will not call `transform_cell` automatically in the future. Please pass the result to `transformed_cell` argument and any exception that happen during thetransform in `preprocessing_exc_tuple` in IPython 7.17 and above.\n",
            "  and should_run_async(code)\n"
          ]
        }
      ]
    }
  ]
}